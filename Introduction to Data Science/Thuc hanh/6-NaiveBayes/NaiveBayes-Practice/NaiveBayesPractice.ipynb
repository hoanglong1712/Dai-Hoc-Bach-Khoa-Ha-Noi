{
 "cells": [
  {
   "cell_type": "markdown",
   "metadata": {
    "id": "tr8MW_wrWfx6"
   },
   "source": [
    "# Bài toán\n",
    "> **Phân loại văn bản sử dụng Naive Bayes**"
   ]
  },
  {
   "cell_type": "markdown",
   "metadata": {
    "id": "LijPfBPXkebb"
   },
   "source": [
    "**Mục tiêu:**\n",
    "\n",
    "- Xây dựng được mô hình Naive Bayes sử dụng thư viện sklearn.\n",
    "- Ứng dụng và hiểu cách áp dụng mô hình Naive Bayes vào giải quyết bài toán thực tế (ví dụ: phân loại văn bản).\n",
    "- Sử dụng độ đo Accuracy để đánh giá chất lượng mô hình.\n",
    "\n",
    "**Vấn đề:**\n",
    "\n",
    "- Có một tập các văn bản dạng text không có nhãn, làm sao để biết văn bản này thuộc về thể loại nào, pháp luật, đời sống, văn học, thể thao,...\n",
    "\n",
    "**Dữ liệu:**\n",
    "\n",
    "- Tập các văn bản và nhãn tương ứng của từng văn bản trong một khoảng thời gian.\n",
    "- Tập các nhãn - 10 nhãn văn bản:\n",
    "    > Giải trí, Khoa học - Công nghệ, Kinh tế, Pháp luật, Sức khỏe, Thể thao, Thời sự, Tin khác, Độc giả, Đời sống - Xã hội.\n",
    "    \n",
    "**Ví dụ văn bản nhãn thể thao:**\n",
    "\n",
    "> \"Dân_trí Real Madrid đã dẫn trước trong cả trận đấu, nhưng họ vẫn phải chấp_nhận bị Dortmund cầm hòa 2-2 ở Bernabeu. Real Madrid chấp_nhận đứng thứ_hai ở bảng F Champions League...\"\n",
    "\n",
    "**Bài toán: Phân loại**\n",
    "\n",
    "- Input: n vector mã hóa của các văn bản - ma trận $X = [x_1, x_2, ... x_n]$.\n",
    "- Output: nhãn $y$ là 1 trong 10 nhãn trên.\n"
   ]
  },
  {
   "cell_type": "markdown",
   "metadata": {
    "id": "pj1pLKZ86TDH"
   },
   "source": [
    "# Import các thư viện cần thiết, cài thêm một số thư viện chưa sẵn có"
   ]
  },
  {
   "cell_type": "code",
   "execution_count": null,
   "metadata": {
    "colab": {
     "base_uri": "https://localhost:8080/"
    },
    "executionInfo": {
     "elapsed": 7361,
     "status": "ok",
     "timestamp": 1691353353041,
     "user": {
      "displayName": "Tùng Thanh",
      "userId": "18339696678456130025"
     },
     "user_tz": -420
    },
    "id": "QxQXkouYkebh",
    "outputId": "b8aaca34-1417-41ef-a7d9-0de66e2f54f9"
   },
   "outputs": [],
   "source": [
    "# Cài đặt thư viện xử lý ngôn ngữ cho tiếng Việt!\n",
    "!pip install pyvi"
   ]
  },
  {
   "cell_type": "code",
   "execution_count": null,
   "metadata": {
    "executionInfo": {
     "elapsed": 2420,
     "status": "ok",
     "timestamp": 1691353355457,
     "user": {
      "displayName": "Tùng Thanh",
      "userId": "18339696678456130025"
     },
     "user_tz": -420
    },
    "id": "lKp1z1cHkebk"
   },
   "outputs": [],
   "source": [
    "import os\n",
    "import numpy as np\n",
    "import matplotlib.pyplot as plt\n",
    "\n",
    "# from sklearn.datasets import load_files\n",
    "from pyvi import ViTokenizer  # Tách từ tiếng Việt\n",
    "\n",
    "import sklearn.naive_bayes as naive_bayes\n",
    "from sklearn.pipeline import Pipeline\n",
    "from sklearn.datasets import load_files\n",
    "from sklearn.feature_extraction.text import CountVectorizer, TfidfVectorizer\n",
    "from sklearn.feature_extraction.text import TfidfTransformer\n",
    "from sklearn.model_selection import train_test_split, GridSearchCV\n",
    "from sklearn.model_selection import ShuffleSplit\n",
    "from sklearn.model_selection import learning_curve\n",
    "\n",
    "%matplotlib inline"
   ]
  },
  {
   "cell_type": "markdown",
   "metadata": {
    "id": "k-qNL6tkkebl"
   },
   "source": [
    "# Load dữ liệu từ thư mục đã crawl từ trước\n",
    "\n",
    "Cấu trúc thư mục như sau:\n",
    "- `data/news_1135/`\n",
    "    - `Kinh tế/`\n",
    "        - `bài báo 1.txt`\n",
    "        - `bài báo 2.txt`\n",
    "    - `Pháp luật/`\n",
    "        - `bài báo 3.txt`\n",
    "        - `bài báo 4.txt`"
   ]
  },
  {
   "cell_type": "code",
   "execution_count": null,
   "metadata": {
    "colab": {
     "base_uri": "https://localhost:8080/"
    },
    "executionInfo": {
     "elapsed": 2617,
     "status": "ok",
     "timestamp": 1691353358071,
     "user": {
      "displayName": "Tùng Thanh",
      "userId": "18339696678456130025"
     },
     "user_tz": -420
    },
    "id": "6ZFiLKeNssHg",
    "outputId": "4c8d09e1-5991-4c50-d29d-313c6dc2517a"
   },
   "outputs": [],
   "source": [
    "from google.colab import drive\n",
    "drive.mount('/content/drive')"
   ]
  },
  {
   "cell_type": "code",
   "execution_count": null,
   "metadata": {
    "colab": {
     "base_uri": "https://localhost:8080/"
    },
    "executionInfo": {
     "elapsed": 3,
     "status": "ok",
     "timestamp": 1691353358071,
     "user": {
      "displayName": "Tùng Thanh",
      "userId": "18339696678456130025"
     },
     "user_tz": -420
    },
    "id": "ZmZAnZ_9suGS",
    "outputId": "d43e5e70-142a-4e5d-ade8-0b33bedae143"
   },
   "outputs": [],
   "source": [
    "%cd /content/drive/MyDrive/Code-VinBigData/NaiveBayes-Practice"
   ]
  },
  {
   "cell_type": "code",
   "execution_count": null,
   "metadata": {
    "colab": {
     "base_uri": "https://localhost:8080/"
    },
    "executionInfo": {
     "elapsed": 46741,
     "status": "ok",
     "timestamp": 1691353404810,
     "user": {
      "displayName": "Tùng Thanh",
      "userId": "18339696678456130025"
     },
     "user_tz": -420
    },
    "id": "9Z3C3XqNkebm",
    "outputId": "9893e6e2-e967-44e9-a343-633b1bc31cf5"
   },
   "outputs": [],
   "source": [
    "data_train = load_files(container_path=\"data/news_1135/\", encoding=\"utf-8\")\n",
    "print(\"10 files đầu:\")\n",
    "print(\"\\n\".join(data_train.filenames[:10]))\n",
    "print(\"\\n\")\n",
    "print(\"Tổng số files: {}\".format(len(data_train.filenames)))\n",
    "print(\"Danh sách nhãn và id tương ứng: \", [(idx, name) for idx, name in enumerate(data_train.target_names)])"
   ]
  },
  {
   "cell_type": "code",
   "execution_count": null,
   "metadata": {
    "executionInfo": {
     "elapsed": 2,
     "status": "ok",
     "timestamp": 1691353404810,
     "user": {
      "displayName": "Tùng Thanh",
      "userId": "18339696678456130025"
     },
     "user_tz": -420
    },
    "id": "JA2ZGlfykebo"
   },
   "outputs": [],
   "source": [
    "### bài tập ###\n",
    "# yêu cầu: hiển thị nội dung, và nhãn của văn bản đầu tiên trong tập train\n",
    "# gợi ý: tự làm\n",
    "###############\n",
    "# code\n",
    "\n",
    "###############"
   ]
  },
  {
   "cell_type": "markdown",
   "metadata": {
    "id": "XV0pQNzBkebp"
   },
   "source": [
    "#  Tiền xử lý dữ liệu đưa dữ liệu từ dạng text về dạng ma trận\n",
    "\n",
    "- Thử nghiệm để kiểm tra hoạt động chuyển hoá dữ liệu về dạng ma trận"
   ]
  },
  {
   "cell_type": "code",
   "execution_count": null,
   "metadata": {
    "colab": {
     "base_uri": "https://localhost:8080/"
    },
    "executionInfo": {
     "elapsed": 1057,
     "status": "ok",
     "timestamp": 1691353405866,
     "user": {
      "displayName": "Tùng Thanh",
      "userId": "18339696678456130025"
     },
     "user_tz": -420
    },
    "id": "SS12JkxRkebp",
    "outputId": "f4788900-2aa7-4575-fc36-cd773c07f10e"
   },
   "outputs": [],
   "source": [
    "# Load dữ liệu các stopwords\n",
    "with open(\"data/vietnamese-stopwords.txt\", encoding=\"utf8\") as f:\n",
    "    stopwords = f.readlines()\n",
    "stopwords = [x.strip().replace(\" \", \"_\") for x in stopwords]\n",
    "print(\"Danh sách 10 từ dừng đầu tiên (từ không mang ý nghĩa phân loại): \", stopwords[:10])\n",
    "print()\n",
    "\n",
    "# Transforming data\n",
    "# Chuyển hoá dữ liệu text về dạng vector TF-IDF\n",
    "#   - loại bỏ từ dừng\n",
    "#   - sinh từ điển\n",
    "module_count_vector = CountVectorizer(stop_words=stopwords)\n",
    "model_rf_preprocess = Pipeline(\n",
    "    [\n",
    "        (\"vect\", module_count_vector),\n",
    "        (\"tfidf\", TfidfTransformer()),\n",
    "    ]\n",
    ")\n",
    "\n",
    "# Hàm thực hiện chuyển đổi dữ liệu text thành dữ liệu số dạng ma trận\n",
    "# Input: Dữ liệu 2 chiều dạng numpy.array, mảng nhãn id dạng numpy.array\n",
    "\n",
    "# Tiền xử lý với Bag of words\n",
    "data_bow = module_count_vector.fit_transform(data_train.data, data_train.target)\n",
    "\n",
    "# Tiền xử lý với TF-IDF\n",
    "data_tfidf = model_rf_preprocess.fit_transform(data_train.data, data_train.target)\n",
    "\n",
    "print(\"10 từ đầu tiên trong từ điển:\\n\")\n",
    "for i, (k, v) in enumerate(module_count_vector.vocabulary_.items()):\n",
    "    print(i + 1, \": \", (k, v))\n",
    "    if i + 1 >= 10:\n",
    "        break"
   ]
  },
  {
   "cell_type": "markdown",
   "metadata": {
    "id": "bqwgTiUNkebq"
   },
   "source": [
    "# Chia dữ liệu làm 2 phần training và testing\n",
    "\n",
    "- Training chiếm 80 % dữ liệu\n",
    "- Testing chiếm 20 % dữ liệu"
   ]
  },
  {
   "cell_type": "code",
   "execution_count": null,
   "metadata": {
    "colab": {
     "base_uri": "https://localhost:8080/"
    },
    "executionInfo": {
     "elapsed": 10,
     "status": "ok",
     "timestamp": 1691353405866,
     "user": {
      "displayName": "Tùng Thanh",
      "userId": "18339696678456130025"
     },
     "user_tz": -420
    },
    "id": "L59agolRkebq",
    "outputId": "d8a70672-b63d-4192-aa6f-81559e6ec9a5"
   },
   "outputs": [],
   "source": [
    "from sklearn.model_selection import train_test_split\n",
    "\n",
    "# Chia dữ liệu thành 2 phần sử dụng hàm train_test_split\n",
    "test_size = 0.2\n",
    "# Bow\n",
    "X_train_bow, X_test_bow, y_train_bow, y_test_bow = train_test_split(data_bow, data_train.target, test_size=test_size, random_state=30)\n",
    "# Tf-idf\n",
    "X_train_tfidf, X_test_tfidf, y_train_tfidf, y_test_tfidf = train_test_split(data_tfidf, data_train.target, test_size=test_size, random_state=30)\n",
    "\n",
    "# Hiển thị một số thông tin về dữ liệu\n",
    "print(\"Dữ liệu training (BoW) =\", X_train_bow.shape, y_train_bow.shape)\n",
    "print(\"Dữ liệu testing (BoW) =\", X_test_bow.shape, y_test_bow.shape)\n",
    "\n",
    "print()\n",
    "\n",
    "print(\"Dữ liệu training (TF-IDF) =\", X_train_tfidf.shape, y_train_tfidf.shape)\n",
    "print(\"Dữ liệu testing (TF-IDF) =\", X_test_tfidf.shape, y_test_tfidf.shape)\n",
    "\n",
    "print()\n",
    "\n",
    "print(\"Danh sách nhãn và id tương ứng: \", [(idx, name) for idx, name in enumerate(data_train.target_names)])"
   ]
  },
  {
   "cell_type": "code",
   "execution_count": null,
   "metadata": {
    "colab": {
     "base_uri": "https://localhost:8080/"
    },
    "executionInfo": {
     "elapsed": 8,
     "status": "ok",
     "timestamp": 1691353405867,
     "user": {
      "displayName": "Tùng Thanh",
      "userId": "18339696678456130025"
     },
     "user_tz": -420
    },
    "id": "qSaGnzzAuu9m",
    "outputId": "33368c2c-af14-4d01-b1ef-d52b83eb5d6d"
   },
   "outputs": [],
   "source": [
    "X_train_bow[1].data"
   ]
  },
  {
   "cell_type": "code",
   "execution_count": null,
   "metadata": {
    "executionInfo": {
     "elapsed": 6,
     "status": "ok",
     "timestamp": 1691353405867,
     "user": {
      "displayName": "Tùng Thanh",
      "userId": "18339696678456130025"
     },
     "user_tz": -420
    },
    "id": "8XlfkQfPkebr"
   },
   "outputs": [],
   "source": [
    "### bài tập ###\n",
    "# yêu cầu: Hiển thị ra id, tên nhãn của 5 văn bản đầu tiên trong tập train.\n",
    "# gợi ý: lấy dữ liệu id từ biến y_train, mapping với thứ tự nằm trong mảng data_train.target_names\n",
    "###############\n",
    "# code\n",
    "\n",
    "###############"
   ]
  },
  {
   "cell_type": "markdown",
   "metadata": {
    "id": "Z3PR74Afkebs"
   },
   "source": [
    "# Training Naive Bayes model\n",
    "\n",
    "Sử dụng thư viện sklearn để xây dựng 2 mô hình\n",
    "- `naive_bayes.MultinomialNB(alpha= 0.1)`: giá trị làm mịn alpha= 0.1\n",
    "- `naive_bayes.GaussianNB()`"
   ]
  },
  {
   "cell_type": "markdown",
   "metadata": {
    "id": "yXT1bxAgrQEc"
   },
   "source": [
    "## Multinomial Naive Bayes\n",
    "- Sử dụng Bag of words"
   ]
  },
  {
   "cell_type": "code",
   "execution_count": null,
   "metadata": {
    "colab": {
     "base_uri": "https://localhost:8080/"
    },
    "executionInfo": {
     "elapsed": 6,
     "status": "ok",
     "timestamp": 1691353405867,
     "user": {
      "displayName": "Tùng Thanh",
      "userId": "18339696678456130025"
     },
     "user_tz": -420
    },
    "id": "kByo28zMkebt",
    "outputId": "8e5f0930-07a1-48a5-dc60-f857cbcb3a26"
   },
   "outputs": [],
   "source": [
    "print(\"- Training ...\")\n",
    "\n",
    "\n",
    "# X_train.shape\n",
    "print(\"- Train size = {}\".format(X_train_bow.shape))\n",
    "model_MNB = naive_bayes.MultinomialNB(alpha=0.1)\n",
    "model_MNB.fit(X_train_bow, y_train_bow)\n",
    "\n",
    "print(\"- model_MNB - train complete\")"
   ]
  },
  {
   "cell_type": "markdown",
   "metadata": {
    "id": "b3gx2ZUNr0fh"
   },
   "source": [
    "## Gaussian Naive Bayes\n",
    "- Sử dụng TF-IDF"
   ]
  },
  {
   "cell_type": "code",
   "execution_count": null,
   "metadata": {
    "colab": {
     "base_uri": "https://localhost:8080/"
    },
    "executionInfo": {
     "elapsed": 4,
     "status": "ok",
     "timestamp": 1691353405867,
     "user": {
      "displayName": "Tùng Thanh",
      "userId": "18339696678456130025"
     },
     "user_tz": -420
    },
    "id": "PXs7PcZpr7oV",
    "outputId": "4e28c0c3-326e-42cc-e939-c7f44e93b9a2"
   },
   "outputs": [],
   "source": [
    "### bài tập ###\n",
    "# yêu cầu: huấn luyện một mô hình Gaussian Naive Bayes tương tự như trên\n",
    "# gợi ý: naive_bayes.GaussianNB(var_smoothing=1e-3)\n",
    "###############\n",
    "# code\n",
    "\n",
    "print(\"- Training ...\")\n",
    "\n",
    "\n",
    "# X_train.shape\n",
    "print(\"- Train size = {}\".format(X_train_tfidf.shape))\n",
    "\n",
    "print(\"- model_GNB - train complete\")\n",
    "###################"
   ]
  },
  {
   "cell_type": "markdown",
   "metadata": {
    "id": "IN11fsCy9JQv"
   },
   "source": [
    "# Testing Naive Bayes model\n",
    "\n",
    "\n",
    "Thực hiện dự đoán nhãn cho từng văn bản trong tập test\n",
    "\n",
    "Độ đo đánh giá:\n",
    "> accuracy = tổng số văn bản dự đoán đúng  / tổng số văn bản có trong tập test  "
   ]
  },
  {
   "cell_type": "code",
   "execution_count": null,
   "metadata": {
    "executionInfo": {
     "elapsed": 3,
     "status": "ok",
     "timestamp": 1691353405867,
     "user": {
      "displayName": "Tùng Thanh",
      "userId": "18339696678456130025"
     },
     "user_tz": -420
    },
    "id": "J-97FYLe9JQw"
   },
   "outputs": [],
   "source": [
    "# Sử dụng thư viện tính accuracy_score trong sklearn\n",
    "from sklearn.metrics import accuracy_score"
   ]
  },
  {
   "cell_type": "code",
   "execution_count": null,
   "metadata": {
    "colab": {
     "base_uri": "https://localhost:8080/"
    },
    "executionInfo": {
     "elapsed": 535,
     "status": "ok",
     "timestamp": 1691353406399,
     "user": {
      "displayName": "Tùng Thanh",
      "userId": "18339696678456130025"
     },
     "user_tz": -420
    },
    "id": "vF-jd2mv9JQw",
    "outputId": "a046c9c2-8674-4e7b-f253-303b5bcda8f3"
   },
   "outputs": [],
   "source": [
    "print(\"- Testing ...\")\n",
    "y_pred_bow = model_MNB.predict(X_test_bow)\n",
    "print(\"- Acc = {}\".format(accuracy_score(y_test_bow, y_pred_bow)))"
   ]
  },
  {
   "cell_type": "code",
   "execution_count": null,
   "metadata": {
    "executionInfo": {
     "elapsed": 14,
     "status": "ok",
     "timestamp": 1691353406399,
     "user": {
      "displayName": "Tùng Thanh",
      "userId": "18339696678456130025"
     },
     "user_tz": -420
    },
    "id": "GWgRZwL5t5FS"
   },
   "outputs": [],
   "source": [
    "# Test tương tự cho GNB\n"
   ]
  },
  {
   "cell_type": "markdown",
   "metadata": {
    "id": "wJOCiVq_kebw"
   },
   "source": [
    "# Thực hiện sử dụng model đã được train để infer 1 văn bản mới\n",
    "- Dữ liệu mới đến ở dạng dữ liệu thô => cần tiền xử lý dữ liệu về dạng dữ_liệu_ma_trận\n",
    "- infer sử dụng hàm model.predict(dữ_liệu_ma_trận)"
   ]
  },
  {
   "cell_type": "code",
   "execution_count": null,
   "metadata": {
    "colab": {
     "base_uri": "https://localhost:8080/"
    },
    "executionInfo": {
     "elapsed": 13,
     "status": "ok",
     "timestamp": 1691353406399,
     "user": {
      "displayName": "Tùng Thanh",
      "userId": "18339696678456130025"
     },
     "user_tz": -420
    },
    "id": "fxxeXRrm9JQx",
    "outputId": "9f278879-264c-4315-bb03-0143608f2bd3"
   },
   "outputs": [],
   "source": [
    "a = ViTokenizer.tokenize(\"Trường đại học bách khoa hà nội\")\n",
    "print(a)"
   ]
  },
  {
   "cell_type": "code",
   "execution_count": null,
   "metadata": {
    "colab": {
     "base_uri": "https://localhost:8080/"
    },
    "executionInfo": {
     "elapsed": 10,
     "status": "ok",
     "timestamp": 1691353406400,
     "user": {
      "displayName": "Tùng Thanh",
      "userId": "18339696678456130025"
     },
     "user_tz": -420
    },
    "id": "F-eLhYlvkeby",
    "outputId": "7616e736-f77a-46c1-a256-143c81c3c5cf"
   },
   "outputs": [],
   "source": [
    "# tiền xử lý dữ liệu sử dụng module module_count_vector.\n",
    "van_ban_moi = ViTokenizer.tokenize(\"Công Phượng ghi bàn cho đội tuyển Việt Nam\")\n",
    "# van_ban_moi = [\"Công_phượng ghi_bàn cho đội_tuyển Việt_nam\"]\n",
    "print(van_ban_moi)\n",
    "input_data_preprocessed = module_count_vector.transform([van_ban_moi])\n",
    "print(input_data_preprocessed)\n",
    "\n",
    "print()\n",
    "print(\"Danh sách nhãn và id tương ứng: \", [(idx, name) for idx, name in enumerate(data_train.target_names)])"
   ]
  },
  {
   "cell_type": "code",
   "execution_count": null,
   "metadata": {
    "executionInfo": {
     "elapsed": 8,
     "status": "ok",
     "timestamp": 1691353406400,
     "user": {
      "displayName": "Tùng Thanh",
      "userId": "18339696678456130025"
     },
     "user_tz": -420
    },
    "id": "nVL21His9JQz"
   },
   "outputs": [],
   "source": [
    "### bài tập ###\n",
    "# yêu cầu: dự đoán nhãn của 1 văn bản mới. Sử dụng mô hình Multinomial NB\n",
    "# gợi ý: thực hiện code suy diễn mô hình từ tiền xử lý (bước 1) => infer (bước 4)\n",
    "# chú ý: không training lại - ko gọi lại hàm fit\n",
    "###############\n",
    "# code\n",
    "\n",
    "###############"
   ]
  },
  {
   "cell_type": "markdown",
   "metadata": {
    "id": "6JUggDUZ9yDE"
   },
   "source": [
    "# Quan sát độ chính xác trên tập test của GNB khi thay đổi tham số var_smoothing"
   ]
  },
  {
   "cell_type": "code",
   "execution_count": null,
   "metadata": {
    "colab": {
     "base_uri": "https://localhost:8080/"
    },
    "executionInfo": {
     "elapsed": 2900,
     "status": "ok",
     "timestamp": 1691353489856,
     "user": {
      "displayName": "Tùng Thanh",
      "userId": "18339696678456130025"
     },
     "user_tz": -420
    },
    "id": "vmVcevE6-WtV",
    "outputId": "765a217e-d0cc-44e3-f8d7-1b58d478c740"
   },
   "outputs": [],
   "source": [
    "# code #####\n",
    "\n",
    "var_smoothings = [1e-1, 1e-2, 1e-3, 1e-4, 1e-5]\n",
    "accs = []\n",
    "\n",
    "for var_smoothing in var_smoothings:\n",
    "    model_GNB = naive_bayes.GaussianNB(var_smoothing=var_smoothing)\n",
    "    model_GNB.fit(X_train_tfidf.toarray(), y_train_tfidf)\n",
    "\n",
    "    # Hoàn thiện thêm phần code ở đây để ghi nhận acc tương ứng trong từng trường hợp\n",
    "\n",
    "# Minh họa tương quan bằng đồ thị\n",
    "# Gợi ý: barplot, lineplot, logarithmic plot\n",
    "\n",
    "############\n",
    "\n",
    "for i in range(len(accs)):\n",
    "    print(var_smoothings[i], accs[i])"
   ]
  }
 ],
 "metadata": {
  "colab": {
   "provenance": []
  },
  "kernelspec": {
   "display_name": "Python 3",
   "language": "python",
   "name": "python3"
  },
  "language_info": {
   "codemirror_mode": {
    "name": "ipython",
    "version": 3
   },
   "file_extension": ".py",
   "mimetype": "text/x-python",
   "name": "python",
   "nbconvert_exporter": "python",
   "pygments_lexer": "ipython3",
   "version": "3.8.10"
  }
 },
 "nbformat": 4,
 "nbformat_minor": 0
}
