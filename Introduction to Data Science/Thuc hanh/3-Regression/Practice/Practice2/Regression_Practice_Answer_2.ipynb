{
  "cells": [
    {
      "cell_type": "markdown",
      "id": "b621c6ec-e927-44fe-8288-12669bd6d8e6",
      "metadata": {
        "id": "b621c6ec-e927-44fe-8288-12669bd6d8e6"
      },
      "source": [
        "# Bài tập thực hành 2"
      ]
    },
    {
      "cell_type": "markdown",
      "id": "6a46fa48-faca-48c4-ad31-686ffeecb940",
      "metadata": {
        "id": "6a46fa48-faca-48c4-ad31-686ffeecb940"
      },
      "source": [
        "## Yêu cầu"
      ]
    },
    {
      "cell_type": "markdown",
      "id": "a2be44ff-6778-4b38-abec-9368486f2875",
      "metadata": {
        "tags": [],
        "id": "a2be44ff-6778-4b38-abec-9368486f2875"
      },
      "source": [
        "Dự đoán doanh thu xe hơi Hyundai dòng Elantra trong năm 2013 và đầu 2014, dựa vào dữ liệu trước đó"
      ]
    },
    {
      "cell_type": "markdown",
      "id": "14969f49-9a04-4588-862c-6fadb2339d77",
      "metadata": {
        "id": "14969f49-9a04-4588-862c-6fadb2339d77"
      },
      "source": [
        "## Dữ liệu\n",
        "\n",
        "Dữ liệu được ghi trong file csv với các trường (Month, Year, ElantraSales, Unemployment, Queries, CPI_energy, CPI_all). Giá trị cần dự đoán sẽ là ElantraSales."
      ]
    },
    {
      "cell_type": "markdown",
      "id": "80abdf61-65fc-43ea-b5ee-f27164e9ee8c",
      "metadata": {
        "id": "80abdf61-65fc-43ea-b5ee-f27164e9ee8c"
      },
      "source": [
        "## Đánh giá\n",
        "\n",
        "Đánh giá mô hình dựa trên\n",
        "* Độ đo tiêu chuẩn của ML: RMSE = $\\sqrt{\\text{avg}\\left(y^{\\left(n\\right)}-\\hat{y}^{\\left(n\\right)}\\right)^{2}}$\n",
        "* Độ đo của business requirements: Mean relative errors = $\\text{avg}\\left(\\dfrac{\\left|y^{\\left(n\\right)}-\\hat{y}^{\\left(n\\right)}\\right|}{y^{\\left(n\\right)}}\\right)\\times100\\%$"
      ]
    },
    {
      "cell_type": "markdown",
      "source": [
        "# Các bước tiến hành"
      ],
      "metadata": {
        "id": "STCbGSgknSQV"
      },
      "id": "STCbGSgknSQV"
    },
    {
      "cell_type": "markdown",
      "id": "706456a2-2bc8-4fd0-b036-2c7daa519744",
      "metadata": {
        "id": "706456a2-2bc8-4fd0-b036-2c7daa519744"
      },
      "source": [
        "## Đọc dữ liệu"
      ]
    },
    {
      "cell_type": "code",
      "execution_count": 3,
      "id": "fcf56fe2-d990-46d4-8069-b9e447a3c836",
      "metadata": {
        "id": "fcf56fe2-d990-46d4-8069-b9e447a3c836"
      },
      "outputs": [],
      "source": [
        "import pandas as pd\n",
        "import numpy as np  # thư viện cho tính toán nói chung\n",
        "\n",
        "df = pd.read_csv('elantra.csv')"
      ]
    },
    {
      "cell_type": "code",
      "execution_count": 4,
      "id": "768df695-da52-4079-9b4f-c0127ba9467c",
      "metadata": {
        "id": "768df695-da52-4079-9b4f-c0127ba9467c",
        "outputId": "b421d1ba-ae85-47df-8541-53e64fb0e2ef",
        "colab": {
          "base_uri": "https://localhost:8080/",
          "height": 363
        }
      },
      "outputs": [
        {
          "output_type": "execute_result",
          "data": {
            "text/plain": [
              "    Month  Year  ElantraSales  Unemployment  Queries  CPI_energy  CPI_all\n",
              "40     10  2012         14512           7.8      257     256.389  231.652\n",
              "41     10  2013         14876           7.2      223     243.374  233.782\n",
              "42     11  2010          8631           9.8      161     219.303  219.544\n",
              "43     11  2011         12414           8.6      255     247.092  227.136\n",
              "44     11  2012         15923           7.8      246     248.136  231.190\n",
              "45     11  2013         16751           7.0      231     242.301  234.033\n",
              "46     12  2010         13096           9.4      170     227.190  220.437\n",
              "47     12  2011         13025           8.5      253     243.015  227.093\n",
              "48     12  2012         19024           7.9      275     244.698  231.099\n",
              "49     12  2013         21692           6.7      279     246.189  234.594"
            ],
            "text/html": [
              "\n",
              "\n",
              "  <div id=\"df-8137067c-739b-4cb8-9b04-f96bd69c2af9\">\n",
              "    <div class=\"colab-df-container\">\n",
              "      <div>\n",
              "<style scoped>\n",
              "    .dataframe tbody tr th:only-of-type {\n",
              "        vertical-align: middle;\n",
              "    }\n",
              "\n",
              "    .dataframe tbody tr th {\n",
              "        vertical-align: top;\n",
              "    }\n",
              "\n",
              "    .dataframe thead th {\n",
              "        text-align: right;\n",
              "    }\n",
              "</style>\n",
              "<table border=\"1\" class=\"dataframe\">\n",
              "  <thead>\n",
              "    <tr style=\"text-align: right;\">\n",
              "      <th></th>\n",
              "      <th>Month</th>\n",
              "      <th>Year</th>\n",
              "      <th>ElantraSales</th>\n",
              "      <th>Unemployment</th>\n",
              "      <th>Queries</th>\n",
              "      <th>CPI_energy</th>\n",
              "      <th>CPI_all</th>\n",
              "    </tr>\n",
              "  </thead>\n",
              "  <tbody>\n",
              "    <tr>\n",
              "      <th>40</th>\n",
              "      <td>10</td>\n",
              "      <td>2012</td>\n",
              "      <td>14512</td>\n",
              "      <td>7.8</td>\n",
              "      <td>257</td>\n",
              "      <td>256.389</td>\n",
              "      <td>231.652</td>\n",
              "    </tr>\n",
              "    <tr>\n",
              "      <th>41</th>\n",
              "      <td>10</td>\n",
              "      <td>2013</td>\n",
              "      <td>14876</td>\n",
              "      <td>7.2</td>\n",
              "      <td>223</td>\n",
              "      <td>243.374</td>\n",
              "      <td>233.782</td>\n",
              "    </tr>\n",
              "    <tr>\n",
              "      <th>42</th>\n",
              "      <td>11</td>\n",
              "      <td>2010</td>\n",
              "      <td>8631</td>\n",
              "      <td>9.8</td>\n",
              "      <td>161</td>\n",
              "      <td>219.303</td>\n",
              "      <td>219.544</td>\n",
              "    </tr>\n",
              "    <tr>\n",
              "      <th>43</th>\n",
              "      <td>11</td>\n",
              "      <td>2011</td>\n",
              "      <td>12414</td>\n",
              "      <td>8.6</td>\n",
              "      <td>255</td>\n",
              "      <td>247.092</td>\n",
              "      <td>227.136</td>\n",
              "    </tr>\n",
              "    <tr>\n",
              "      <th>44</th>\n",
              "      <td>11</td>\n",
              "      <td>2012</td>\n",
              "      <td>15923</td>\n",
              "      <td>7.8</td>\n",
              "      <td>246</td>\n",
              "      <td>248.136</td>\n",
              "      <td>231.190</td>\n",
              "    </tr>\n",
              "    <tr>\n",
              "      <th>45</th>\n",
              "      <td>11</td>\n",
              "      <td>2013</td>\n",
              "      <td>16751</td>\n",
              "      <td>7.0</td>\n",
              "      <td>231</td>\n",
              "      <td>242.301</td>\n",
              "      <td>234.033</td>\n",
              "    </tr>\n",
              "    <tr>\n",
              "      <th>46</th>\n",
              "      <td>12</td>\n",
              "      <td>2010</td>\n",
              "      <td>13096</td>\n",
              "      <td>9.4</td>\n",
              "      <td>170</td>\n",
              "      <td>227.190</td>\n",
              "      <td>220.437</td>\n",
              "    </tr>\n",
              "    <tr>\n",
              "      <th>47</th>\n",
              "      <td>12</td>\n",
              "      <td>2011</td>\n",
              "      <td>13025</td>\n",
              "      <td>8.5</td>\n",
              "      <td>253</td>\n",
              "      <td>243.015</td>\n",
              "      <td>227.093</td>\n",
              "    </tr>\n",
              "    <tr>\n",
              "      <th>48</th>\n",
              "      <td>12</td>\n",
              "      <td>2012</td>\n",
              "      <td>19024</td>\n",
              "      <td>7.9</td>\n",
              "      <td>275</td>\n",
              "      <td>244.698</td>\n",
              "      <td>231.099</td>\n",
              "    </tr>\n",
              "    <tr>\n",
              "      <th>49</th>\n",
              "      <td>12</td>\n",
              "      <td>2013</td>\n",
              "      <td>21692</td>\n",
              "      <td>6.7</td>\n",
              "      <td>279</td>\n",
              "      <td>246.189</td>\n",
              "      <td>234.594</td>\n",
              "    </tr>\n",
              "  </tbody>\n",
              "</table>\n",
              "</div>\n",
              "      <button class=\"colab-df-convert\" onclick=\"convertToInteractive('df-8137067c-739b-4cb8-9b04-f96bd69c2af9')\"\n",
              "              title=\"Convert this dataframe to an interactive table.\"\n",
              "              style=\"display:none;\">\n",
              "\n",
              "  <svg xmlns=\"http://www.w3.org/2000/svg\" height=\"24px\"viewBox=\"0 0 24 24\"\n",
              "       width=\"24px\">\n",
              "    <path d=\"M0 0h24v24H0V0z\" fill=\"none\"/>\n",
              "    <path d=\"M18.56 5.44l.94 2.06.94-2.06 2.06-.94-2.06-.94-.94-2.06-.94 2.06-2.06.94zm-11 1L8.5 8.5l.94-2.06 2.06-.94-2.06-.94L8.5 2.5l-.94 2.06-2.06.94zm10 10l.94 2.06.94-2.06 2.06-.94-2.06-.94-.94-2.06-.94 2.06-2.06.94z\"/><path d=\"M17.41 7.96l-1.37-1.37c-.4-.4-.92-.59-1.43-.59-.52 0-1.04.2-1.43.59L10.3 9.45l-7.72 7.72c-.78.78-.78 2.05 0 2.83L4 21.41c.39.39.9.59 1.41.59.51 0 1.02-.2 1.41-.59l7.78-7.78 2.81-2.81c.8-.78.8-2.07 0-2.86zM5.41 20L4 18.59l7.72-7.72 1.47 1.35L5.41 20z\"/>\n",
              "  </svg>\n",
              "      </button>\n",
              "\n",
              "\n",
              "\n",
              "    <div id=\"df-15d8ddaf-bb5f-402e-a74c-a2902d4680b5\">\n",
              "      <button class=\"colab-df-quickchart\" onclick=\"quickchart('df-15d8ddaf-bb5f-402e-a74c-a2902d4680b5')\"\n",
              "              title=\"Suggest charts.\"\n",
              "              style=\"display:none;\">\n",
              "\n",
              "<svg xmlns=\"http://www.w3.org/2000/svg\" height=\"24px\"viewBox=\"0 0 24 24\"\n",
              "     width=\"24px\">\n",
              "    <g>\n",
              "        <path d=\"M19 3H5c-1.1 0-2 .9-2 2v14c0 1.1.9 2 2 2h14c1.1 0 2-.9 2-2V5c0-1.1-.9-2-2-2zM9 17H7v-7h2v7zm4 0h-2V7h2v10zm4 0h-2v-4h2v4z\"/>\n",
              "    </g>\n",
              "</svg>\n",
              "      </button>\n",
              "    </div>\n",
              "\n",
              "<style>\n",
              "  .colab-df-quickchart {\n",
              "    background-color: #E8F0FE;\n",
              "    border: none;\n",
              "    border-radius: 50%;\n",
              "    cursor: pointer;\n",
              "    display: none;\n",
              "    fill: #1967D2;\n",
              "    height: 32px;\n",
              "    padding: 0 0 0 0;\n",
              "    width: 32px;\n",
              "  }\n",
              "\n",
              "  .colab-df-quickchart:hover {\n",
              "    background-color: #E2EBFA;\n",
              "    box-shadow: 0px 1px 2px rgba(60, 64, 67, 0.3), 0px 1px 3px 1px rgba(60, 64, 67, 0.15);\n",
              "    fill: #174EA6;\n",
              "  }\n",
              "\n",
              "  [theme=dark] .colab-df-quickchart {\n",
              "    background-color: #3B4455;\n",
              "    fill: #D2E3FC;\n",
              "  }\n",
              "\n",
              "  [theme=dark] .colab-df-quickchart:hover {\n",
              "    background-color: #434B5C;\n",
              "    box-shadow: 0px 1px 3px 1px rgba(0, 0, 0, 0.15);\n",
              "    filter: drop-shadow(0px 1px 2px rgba(0, 0, 0, 0.3));\n",
              "    fill: #FFFFFF;\n",
              "  }\n",
              "</style>\n",
              "\n",
              "    <script>\n",
              "      async function quickchart(key) {\n",
              "        const containerElement = document.querySelector('#' + key);\n",
              "        const charts = await google.colab.kernel.invokeFunction(\n",
              "            'suggestCharts', [key], {});\n",
              "      }\n",
              "    </script>\n",
              "\n",
              "      <script>\n",
              "\n",
              "function displayQuickchartButton(domScope) {\n",
              "  let quickchartButtonEl =\n",
              "    domScope.querySelector('#df-15d8ddaf-bb5f-402e-a74c-a2902d4680b5 button.colab-df-quickchart');\n",
              "  quickchartButtonEl.style.display =\n",
              "    google.colab.kernel.accessAllowed ? 'block' : 'none';\n",
              "}\n",
              "\n",
              "        displayQuickchartButton(document);\n",
              "      </script>\n",
              "      <style>\n",
              "    .colab-df-container {\n",
              "      display:flex;\n",
              "      flex-wrap:wrap;\n",
              "      gap: 12px;\n",
              "    }\n",
              "\n",
              "    .colab-df-convert {\n",
              "      background-color: #E8F0FE;\n",
              "      border: none;\n",
              "      border-radius: 50%;\n",
              "      cursor: pointer;\n",
              "      display: none;\n",
              "      fill: #1967D2;\n",
              "      height: 32px;\n",
              "      padding: 0 0 0 0;\n",
              "      width: 32px;\n",
              "    }\n",
              "\n",
              "    .colab-df-convert:hover {\n",
              "      background-color: #E2EBFA;\n",
              "      box-shadow: 0px 1px 2px rgba(60, 64, 67, 0.3), 0px 1px 3px 1px rgba(60, 64, 67, 0.15);\n",
              "      fill: #174EA6;\n",
              "    }\n",
              "\n",
              "    [theme=dark] .colab-df-convert {\n",
              "      background-color: #3B4455;\n",
              "      fill: #D2E3FC;\n",
              "    }\n",
              "\n",
              "    [theme=dark] .colab-df-convert:hover {\n",
              "      background-color: #434B5C;\n",
              "      box-shadow: 0px 1px 3px 1px rgba(0, 0, 0, 0.15);\n",
              "      filter: drop-shadow(0px 1px 2px rgba(0, 0, 0, 0.3));\n",
              "      fill: #FFFFFF;\n",
              "    }\n",
              "  </style>\n",
              "\n",
              "      <script>\n",
              "        const buttonEl =\n",
              "          document.querySelector('#df-8137067c-739b-4cb8-9b04-f96bd69c2af9 button.colab-df-convert');\n",
              "        buttonEl.style.display =\n",
              "          google.colab.kernel.accessAllowed ? 'block' : 'none';\n",
              "\n",
              "        async function convertToInteractive(key) {\n",
              "          const element = document.querySelector('#df-8137067c-739b-4cb8-9b04-f96bd69c2af9');\n",
              "          const dataTable =\n",
              "            await google.colab.kernel.invokeFunction('convertToInteractive',\n",
              "                                                     [key], {});\n",
              "          if (!dataTable) return;\n",
              "\n",
              "          const docLinkHtml = 'Like what you see? Visit the ' +\n",
              "            '<a target=\"_blank\" href=https://colab.research.google.com/notebooks/data_table.ipynb>data table notebook</a>'\n",
              "            + ' to learn more about interactive tables.';\n",
              "          element.innerHTML = '';\n",
              "          dataTable['output_type'] = 'display_data';\n",
              "          await google.colab.output.renderOutput(dataTable, element);\n",
              "          const docLink = document.createElement('div');\n",
              "          docLink.innerHTML = docLinkHtml;\n",
              "          element.appendChild(docLink);\n",
              "        }\n",
              "      </script>\n",
              "    </div>\n",
              "  </div>\n"
            ]
          },
          "metadata": {},
          "execution_count": 4
        }
      ],
      "source": [
        "df.tail(10)"
      ]
    },
    {
      "cell_type": "code",
      "execution_count": 5,
      "id": "a9a21a8e-e14a-431e-93a5-d625daedfd68",
      "metadata": {
        "id": "a9a21a8e-e14a-431e-93a5-d625daedfd68",
        "outputId": "02d8a12a-6189-48e1-d29e-d8e11833e637",
        "colab": {
          "base_uri": "https://localhost:8080/",
          "height": 363
        }
      },
      "outputs": [
        {
          "output_type": "execute_result",
          "data": {
            "text/plain": [
              "   Month  Year  ElantraSales  Unemployment  Queries  CPI_energy  CPI_all\n",
              "0      1  2010          7690           9.7      153     213.377  217.466\n",
              "1      2  2010          7966           9.8      130     209.924  217.251\n",
              "2      3  2010          8225           9.9      138     209.163  217.305\n",
              "3      4  2010          9657           9.9      132     209.024  217.376\n",
              "4      5  2010          9781           9.6      177     206.172  217.299\n",
              "5      6  2010         14245           9.4      138     204.161  217.285\n",
              "6      7  2010         18215           9.5      156     206.834  217.677\n",
              "7      8  2010         15181           9.5      202     208.927  218.012\n",
              "8      9  2010         10062           9.5      150     209.850  218.281\n",
              "9     10  2010          9497           9.5      178     216.655  219.024"
            ],
            "text/html": [
              "\n",
              "\n",
              "  <div id=\"df-7d2e8bfa-5b7f-4fc0-9657-3c0f254ea3fc\">\n",
              "    <div class=\"colab-df-container\">\n",
              "      <div>\n",
              "<style scoped>\n",
              "    .dataframe tbody tr th:only-of-type {\n",
              "        vertical-align: middle;\n",
              "    }\n",
              "\n",
              "    .dataframe tbody tr th {\n",
              "        vertical-align: top;\n",
              "    }\n",
              "\n",
              "    .dataframe thead th {\n",
              "        text-align: right;\n",
              "    }\n",
              "</style>\n",
              "<table border=\"1\" class=\"dataframe\">\n",
              "  <thead>\n",
              "    <tr style=\"text-align: right;\">\n",
              "      <th></th>\n",
              "      <th>Month</th>\n",
              "      <th>Year</th>\n",
              "      <th>ElantraSales</th>\n",
              "      <th>Unemployment</th>\n",
              "      <th>Queries</th>\n",
              "      <th>CPI_energy</th>\n",
              "      <th>CPI_all</th>\n",
              "    </tr>\n",
              "  </thead>\n",
              "  <tbody>\n",
              "    <tr>\n",
              "      <th>0</th>\n",
              "      <td>1</td>\n",
              "      <td>2010</td>\n",
              "      <td>7690</td>\n",
              "      <td>9.7</td>\n",
              "      <td>153</td>\n",
              "      <td>213.377</td>\n",
              "      <td>217.466</td>\n",
              "    </tr>\n",
              "    <tr>\n",
              "      <th>1</th>\n",
              "      <td>2</td>\n",
              "      <td>2010</td>\n",
              "      <td>7966</td>\n",
              "      <td>9.8</td>\n",
              "      <td>130</td>\n",
              "      <td>209.924</td>\n",
              "      <td>217.251</td>\n",
              "    </tr>\n",
              "    <tr>\n",
              "      <th>2</th>\n",
              "      <td>3</td>\n",
              "      <td>2010</td>\n",
              "      <td>8225</td>\n",
              "      <td>9.9</td>\n",
              "      <td>138</td>\n",
              "      <td>209.163</td>\n",
              "      <td>217.305</td>\n",
              "    </tr>\n",
              "    <tr>\n",
              "      <th>3</th>\n",
              "      <td>4</td>\n",
              "      <td>2010</td>\n",
              "      <td>9657</td>\n",
              "      <td>9.9</td>\n",
              "      <td>132</td>\n",
              "      <td>209.024</td>\n",
              "      <td>217.376</td>\n",
              "    </tr>\n",
              "    <tr>\n",
              "      <th>4</th>\n",
              "      <td>5</td>\n",
              "      <td>2010</td>\n",
              "      <td>9781</td>\n",
              "      <td>9.6</td>\n",
              "      <td>177</td>\n",
              "      <td>206.172</td>\n",
              "      <td>217.299</td>\n",
              "    </tr>\n",
              "    <tr>\n",
              "      <th>5</th>\n",
              "      <td>6</td>\n",
              "      <td>2010</td>\n",
              "      <td>14245</td>\n",
              "      <td>9.4</td>\n",
              "      <td>138</td>\n",
              "      <td>204.161</td>\n",
              "      <td>217.285</td>\n",
              "    </tr>\n",
              "    <tr>\n",
              "      <th>6</th>\n",
              "      <td>7</td>\n",
              "      <td>2010</td>\n",
              "      <td>18215</td>\n",
              "      <td>9.5</td>\n",
              "      <td>156</td>\n",
              "      <td>206.834</td>\n",
              "      <td>217.677</td>\n",
              "    </tr>\n",
              "    <tr>\n",
              "      <th>7</th>\n",
              "      <td>8</td>\n",
              "      <td>2010</td>\n",
              "      <td>15181</td>\n",
              "      <td>9.5</td>\n",
              "      <td>202</td>\n",
              "      <td>208.927</td>\n",
              "      <td>218.012</td>\n",
              "    </tr>\n",
              "    <tr>\n",
              "      <th>8</th>\n",
              "      <td>9</td>\n",
              "      <td>2010</td>\n",
              "      <td>10062</td>\n",
              "      <td>9.5</td>\n",
              "      <td>150</td>\n",
              "      <td>209.850</td>\n",
              "      <td>218.281</td>\n",
              "    </tr>\n",
              "    <tr>\n",
              "      <th>9</th>\n",
              "      <td>10</td>\n",
              "      <td>2010</td>\n",
              "      <td>9497</td>\n",
              "      <td>9.5</td>\n",
              "      <td>178</td>\n",
              "      <td>216.655</td>\n",
              "      <td>219.024</td>\n",
              "    </tr>\n",
              "  </tbody>\n",
              "</table>\n",
              "</div>\n",
              "      <button class=\"colab-df-convert\" onclick=\"convertToInteractive('df-7d2e8bfa-5b7f-4fc0-9657-3c0f254ea3fc')\"\n",
              "              title=\"Convert this dataframe to an interactive table.\"\n",
              "              style=\"display:none;\">\n",
              "\n",
              "  <svg xmlns=\"http://www.w3.org/2000/svg\" height=\"24px\"viewBox=\"0 0 24 24\"\n",
              "       width=\"24px\">\n",
              "    <path d=\"M0 0h24v24H0V0z\" fill=\"none\"/>\n",
              "    <path d=\"M18.56 5.44l.94 2.06.94-2.06 2.06-.94-2.06-.94-.94-2.06-.94 2.06-2.06.94zm-11 1L8.5 8.5l.94-2.06 2.06-.94-2.06-.94L8.5 2.5l-.94 2.06-2.06.94zm10 10l.94 2.06.94-2.06 2.06-.94-2.06-.94-.94-2.06-.94 2.06-2.06.94z\"/><path d=\"M17.41 7.96l-1.37-1.37c-.4-.4-.92-.59-1.43-.59-.52 0-1.04.2-1.43.59L10.3 9.45l-7.72 7.72c-.78.78-.78 2.05 0 2.83L4 21.41c.39.39.9.59 1.41.59.51 0 1.02-.2 1.41-.59l7.78-7.78 2.81-2.81c.8-.78.8-2.07 0-2.86zM5.41 20L4 18.59l7.72-7.72 1.47 1.35L5.41 20z\"/>\n",
              "  </svg>\n",
              "      </button>\n",
              "\n",
              "\n",
              "\n",
              "    <div id=\"df-0c45cc95-9366-46b3-a94e-26dff36db0c7\">\n",
              "      <button class=\"colab-df-quickchart\" onclick=\"quickchart('df-0c45cc95-9366-46b3-a94e-26dff36db0c7')\"\n",
              "              title=\"Suggest charts.\"\n",
              "              style=\"display:none;\">\n",
              "\n",
              "<svg xmlns=\"http://www.w3.org/2000/svg\" height=\"24px\"viewBox=\"0 0 24 24\"\n",
              "     width=\"24px\">\n",
              "    <g>\n",
              "        <path d=\"M19 3H5c-1.1 0-2 .9-2 2v14c0 1.1.9 2 2 2h14c1.1 0 2-.9 2-2V5c0-1.1-.9-2-2-2zM9 17H7v-7h2v7zm4 0h-2V7h2v10zm4 0h-2v-4h2v4z\"/>\n",
              "    </g>\n",
              "</svg>\n",
              "      </button>\n",
              "    </div>\n",
              "\n",
              "<style>\n",
              "  .colab-df-quickchart {\n",
              "    background-color: #E8F0FE;\n",
              "    border: none;\n",
              "    border-radius: 50%;\n",
              "    cursor: pointer;\n",
              "    display: none;\n",
              "    fill: #1967D2;\n",
              "    height: 32px;\n",
              "    padding: 0 0 0 0;\n",
              "    width: 32px;\n",
              "  }\n",
              "\n",
              "  .colab-df-quickchart:hover {\n",
              "    background-color: #E2EBFA;\n",
              "    box-shadow: 0px 1px 2px rgba(60, 64, 67, 0.3), 0px 1px 3px 1px rgba(60, 64, 67, 0.15);\n",
              "    fill: #174EA6;\n",
              "  }\n",
              "\n",
              "  [theme=dark] .colab-df-quickchart {\n",
              "    background-color: #3B4455;\n",
              "    fill: #D2E3FC;\n",
              "  }\n",
              "\n",
              "  [theme=dark] .colab-df-quickchart:hover {\n",
              "    background-color: #434B5C;\n",
              "    box-shadow: 0px 1px 3px 1px rgba(0, 0, 0, 0.15);\n",
              "    filter: drop-shadow(0px 1px 2px rgba(0, 0, 0, 0.3));\n",
              "    fill: #FFFFFF;\n",
              "  }\n",
              "</style>\n",
              "\n",
              "    <script>\n",
              "      async function quickchart(key) {\n",
              "        const containerElement = document.querySelector('#' + key);\n",
              "        const charts = await google.colab.kernel.invokeFunction(\n",
              "            'suggestCharts', [key], {});\n",
              "      }\n",
              "    </script>\n",
              "\n",
              "      <script>\n",
              "\n",
              "function displayQuickchartButton(domScope) {\n",
              "  let quickchartButtonEl =\n",
              "    domScope.querySelector('#df-0c45cc95-9366-46b3-a94e-26dff36db0c7 button.colab-df-quickchart');\n",
              "  quickchartButtonEl.style.display =\n",
              "    google.colab.kernel.accessAllowed ? 'block' : 'none';\n",
              "}\n",
              "\n",
              "        displayQuickchartButton(document);\n",
              "      </script>\n",
              "      <style>\n",
              "    .colab-df-container {\n",
              "      display:flex;\n",
              "      flex-wrap:wrap;\n",
              "      gap: 12px;\n",
              "    }\n",
              "\n",
              "    .colab-df-convert {\n",
              "      background-color: #E8F0FE;\n",
              "      border: none;\n",
              "      border-radius: 50%;\n",
              "      cursor: pointer;\n",
              "      display: none;\n",
              "      fill: #1967D2;\n",
              "      height: 32px;\n",
              "      padding: 0 0 0 0;\n",
              "      width: 32px;\n",
              "    }\n",
              "\n",
              "    .colab-df-convert:hover {\n",
              "      background-color: #E2EBFA;\n",
              "      box-shadow: 0px 1px 2px rgba(60, 64, 67, 0.3), 0px 1px 3px 1px rgba(60, 64, 67, 0.15);\n",
              "      fill: #174EA6;\n",
              "    }\n",
              "\n",
              "    [theme=dark] .colab-df-convert {\n",
              "      background-color: #3B4455;\n",
              "      fill: #D2E3FC;\n",
              "    }\n",
              "\n",
              "    [theme=dark] .colab-df-convert:hover {\n",
              "      background-color: #434B5C;\n",
              "      box-shadow: 0px 1px 3px 1px rgba(0, 0, 0, 0.15);\n",
              "      filter: drop-shadow(0px 1px 2px rgba(0, 0, 0, 0.3));\n",
              "      fill: #FFFFFF;\n",
              "    }\n",
              "  </style>\n",
              "\n",
              "      <script>\n",
              "        const buttonEl =\n",
              "          document.querySelector('#df-7d2e8bfa-5b7f-4fc0-9657-3c0f254ea3fc button.colab-df-convert');\n",
              "        buttonEl.style.display =\n",
              "          google.colab.kernel.accessAllowed ? 'block' : 'none';\n",
              "\n",
              "        async function convertToInteractive(key) {\n",
              "          const element = document.querySelector('#df-7d2e8bfa-5b7f-4fc0-9657-3c0f254ea3fc');\n",
              "          const dataTable =\n",
              "            await google.colab.kernel.invokeFunction('convertToInteractive',\n",
              "                                                     [key], {});\n",
              "          if (!dataTable) return;\n",
              "\n",
              "          const docLinkHtml = 'Like what you see? Visit the ' +\n",
              "            '<a target=\"_blank\" href=https://colab.research.google.com/notebooks/data_table.ipynb>data table notebook</a>'\n",
              "            + ' to learn more about interactive tables.';\n",
              "          element.innerHTML = '';\n",
              "          dataTable['output_type'] = 'display_data';\n",
              "          await google.colab.output.renderOutput(dataTable, element);\n",
              "          const docLink = document.createElement('div');\n",
              "          docLink.innerHTML = docLinkHtml;\n",
              "          element.appendChild(docLink);\n",
              "        }\n",
              "      </script>\n",
              "    </div>\n",
              "  </div>\n"
            ]
          },
          "metadata": {},
          "execution_count": 5
        }
      ],
      "source": [
        "##### exercise #####\n",
        "# Yêu cầu: Sắp xếp lại thứ tự các hàng dữ liệu theo tháng/năm\n",
        "# Gợi ý: sử dụng df.sort_values và df.reset_index\n",
        "######################\n",
        "df = df.sort_values(by=['Year', 'Month'])\n",
        "df = df.reset_index(drop=True)\n",
        "df.head(10)"
      ]
    },
    {
      "cell_type": "code",
      "execution_count": 6,
      "id": "e7e4924b-15ae-4bf3-ab04-c73f4f6ebb95",
      "metadata": {
        "id": "e7e4924b-15ae-4bf3-ab04-c73f4f6ebb95",
        "outputId": "a5eb060e-974e-4845-a93a-df47fc6ca635",
        "colab": {
          "base_uri": "https://localhost:8080/",
          "height": 542
        }
      },
      "outputs": [
        {
          "output_type": "display_data",
          "data": {
            "text/plain": [
              "<Figure size 900x600 with 1 Axes>"
            ],
            "image/png": "[encoded data removed]"
          },
          "metadata": {}
        }
      ],
      "source": [
        "import matplotlib.pyplot as plt\n",
        "\n",
        "plt.figure(figsize=(9,6))\n",
        "\n",
        "plt.plot(df.ElantraSales.values)\n",
        "\n",
        "plt.xlabel('Time index')\n",
        "\n",
        "plt.ylabel('Sales')\n",
        "\n",
        "\n",
        "# function to show the plot\n",
        "plt.show()"
      ]
    },
    {
      "cell_type": "code",
      "execution_count": 7,
      "id": "b40e4f2c-975c-4aba-8378-2476d7c169fd",
      "metadata": {
        "id": "b40e4f2c-975c-4aba-8378-2476d7c169fd",
        "outputId": "8e641630-735f-417f-e6f4-39125b368ae7",
        "colab": {
          "base_uri": "https://localhost:8080/"
        }
      },
      "outputs": [
        {
          "output_type": "execute_result",
          "data": {
            "text/plain": [
              "Index(['Unemployment', 'Queries', 'CPI_energy', 'CPI_all'], dtype='object')"
            ]
          },
          "metadata": {},
          "execution_count": 7
        }
      ],
      "source": [
        "numeric_feats = df.columns.drop([\"ElantraSales\", \"Month\", \"Year\"])\n",
        "numeric_feats"
      ]
    },
    {
      "cell_type": "code",
      "execution_count": 8,
      "id": "2658fdbd-ee9f-4480-9a66-df119979ee20",
      "metadata": {
        "id": "2658fdbd-ee9f-4480-9a66-df119979ee20"
      },
      "outputs": [],
      "source": [
        "df_train = df[df.Year < 2013]\n",
        "df_test = df[df.Year >= 2013]\n",
        "\n",
        "y_train = df_train.ElantraSales.values\n",
        "y_test = df_test.ElantraSales.values"
      ]
    },
    {
      "cell_type": "markdown",
      "id": "5ddaf36b-848b-46a6-b23e-4243e31f531b",
      "metadata": {
        "id": "5ddaf36b-848b-46a6-b23e-4243e31f531b"
      },
      "source": [
        "**feature scaling**"
      ]
    },
    {
      "cell_type": "code",
      "execution_count": 9,
      "id": "a1089e1e-b170-4382-b12d-0b8b4c2173cf",
      "metadata": {
        "id": "a1089e1e-b170-4382-b12d-0b8b4c2173cf"
      },
      "outputs": [],
      "source": [
        "# Chuẩn hóa dữ liệu bằng StandardScaler, dữ liệu được chuẩn hóa theo dạng x -> (x-mean)/std\n",
        "# Nếu x có phân phối Gauss, dữ liệu chuẩn hóa sẽ thuộc phân phối N(0,1)\n",
        "from sklearn.preprocessing import StandardScaler\n",
        "\n",
        "# Scaling outputs obtained from TRAINING SET\n",
        "scaler = StandardScaler().fit(df_train[numeric_feats])\n",
        "\n",
        "X_train = scaler.transform(df_train[numeric_feats])\n",
        "X_test = scaler.transform(df_test[numeric_feats])"
      ]
    },
    {
      "cell_type": "markdown",
      "id": "37715735-b537-485c-8f6e-aa8361488cec",
      "metadata": {
        "id": "37715735-b537-485c-8f6e-aa8361488cec"
      },
      "source": [
        "## Xây dựng Mô hình"
      ]
    },
    {
      "cell_type": "code",
      "execution_count": 10,
      "id": "deddfe16-d873-406f-8f2b-66f2ae675969",
      "metadata": {
        "id": "deddfe16-d873-406f-8f2b-66f2ae675969",
        "outputId": "7372445a-3f31-46cf-c72a-3d78e693dc1a",
        "colab": {
          "base_uri": "https://localhost:8080/",
          "height": 74
        }
      },
      "outputs": [
        {
          "output_type": "execute_result",
          "data": {
            "text/plain": [
              "LinearRegression()"
            ],
            "text/html": [
              "<style>#sk-container-id-1 {color: black;background-color: white;}#sk-container-id-1 pre{padding: 0;}#sk-container-id-1 div.sk-toggleable {background-color: white;}#sk-container-id-1 label.sk-toggleable__label {cursor: pointer;display: block;width: 100%;margin-bottom: 0;padding: 0.3em;box-sizing: border-box;text-align: center;}#sk-container-id-1 label.sk-toggleable__label-arrow:before {content: \"▸\";float: left;margin-right: 0.25em;color: #696969;}#sk-container-id-1 label.sk-toggleable__label-arrow:hover:before {color: black;}#sk-container-id-1 div.sk-estimator:hover label.sk-toggleable__label-arrow:before {color: black;}#sk-container-id-1 div.sk-toggleable__content {max-height: 0;max-width: 0;overflow: hidden;text-align: left;background-color: #f0f8ff;}#sk-container-id-1 div.sk-toggleable__content pre {margin: 0.2em;color: black;border-radius: 0.25em;background-color: #f0f8ff;}#sk-container-id-1 input.sk-toggleable__control:checked~div.sk-toggleable__content {max-height: 200px;max-width: 100%;overflow: auto;}#sk-container-id-1 input.sk-toggleable__control:checked~label.sk-toggleable__label-arrow:before {content: \"▾\";}#sk-container-id-1 div.sk-estimator input.sk-toggleable__control:checked~label.sk-toggleable__label {background-color: #d4ebff;}#sk-container-id-1 div.sk-label input.sk-toggleable__control:checked~label.sk-toggleable__label {background-color: #d4ebff;}#sk-container-id-1 input.sk-hidden--visually {border: 0;clip: rect(1px 1px 1px 1px);clip: rect(1px, 1px, 1px, 1px);height: 1px;margin: -1px;overflow: hidden;padding: 0;position: absolute;width: 1px;}#sk-container-id-1 div.sk-estimator {font-family: monospace;background-color: #f0f8ff;border: 1px dotted black;border-radius: 0.25em;box-sizing: border-box;margin-bottom: 0.5em;}#sk-container-id-1 div.sk-estimator:hover {background-color: #d4ebff;}#sk-container-id-1 div.sk-parallel-item::after {content: \"\";width: 100%;border-bottom: 1px solid gray;flex-grow: 1;}#sk-container-id-1 div.sk-label:hover label.sk-toggleable__label {background-color: #d4ebff;}#sk-container-id-1 div.sk-serial::before {content: \"\";position: absolute;border-left: 1px solid gray;box-sizing: border-box;top: 0;bottom: 0;left: 50%;z-index: 0;}#sk-container-id-1 div.sk-serial {display: flex;flex-direction: column;align-items: center;background-color: white;padding-right: 0.2em;padding-left: 0.2em;position: relative;}#sk-container-id-1 div.sk-item {position: relative;z-index: 1;}#sk-container-id-1 div.sk-parallel {display: flex;align-items: stretch;justify-content: center;background-color: white;position: relative;}#sk-container-id-1 div.sk-item::before, #sk-container-id-1 div.sk-parallel-item::before {content: \"\";position: absolute;border-left: 1px solid gray;box-sizing: border-box;top: 0;bottom: 0;left: 50%;z-index: -1;}#sk-container-id-1 div.sk-parallel-item {display: flex;flex-direction: column;z-index: 1;position: relative;background-color: white;}#sk-container-id-1 div.sk-parallel-item:first-child::after {align-self: flex-end;width: 50%;}#sk-container-id-1 div.sk-parallel-item:last-child::after {align-self: flex-start;width: 50%;}#sk-container-id-1 div.sk-parallel-item:only-child::after {width: 0;}#sk-container-id-1 div.sk-dashed-wrapped {border: 1px dashed gray;margin: 0 0.4em 0.5em 0.4em;box-sizing: border-box;padding-bottom: 0.4em;background-color: white;}#sk-container-id-1 div.sk-label label {font-family: monospace;font-weight: bold;display: inline-block;line-height: 1.2em;}#sk-container-id-1 div.sk-label-container {text-align: center;}#sk-container-id-1 div.sk-container {/* jupyter's `normalize.less` sets `[hidden] { display: none; }` but bootstrap.min.css set `[hidden] { display: none !important; }` so we also need the `!important` here to be able to override the default hidden behavior on the sphinx rendered scikit-learn.org. See: https://github.com/scikit-learn/scikit-learn/issues/21755 */display: inline-block !important;position: relative;}#sk-container-id-1 div.sk-text-repr-fallback {display: none;}</style><div id=\"sk-container-id-1\" class=\"sk-top-container\"><div class=\"sk-text-repr-fallback\"><pre>LinearRegression()</pre><b>In a Jupyter environment, please rerun this cell to show the HTML representation or trust the notebook. <br />On GitHub, the HTML representation is unable to render, please try loading this page with nbviewer.org.</b></div><div class=\"sk-container\" hidden><div class=\"sk-item\"><div class=\"sk-estimator sk-toggleable\"><input class=\"sk-toggleable__control sk-hidden--visually\" id=\"sk-estimator-id-1\" type=\"checkbox\" checked><label for=\"sk-estimator-id-1\" class=\"sk-toggleable__label sk-toggleable__label-arrow\">LinearRegression</label><div class=\"sk-toggleable__content\"><pre>LinearRegression()</pre></div></div></div></div></div>"
            ]
          },
          "metadata": {},
          "execution_count": 10
        }
      ],
      "source": [
        "###### exercise #####\n",
        "# Yêu cầu: Xây dựng và huấn luyện mô hình Linear Regression\n",
        "# Gợi ý: sử dụng hàm fit() nhưng trong bài thực hành 1\n",
        "######################\n",
        "from sklearn.linear_model import LinearRegression\n",
        "\n",
        "model1 = LinearRegression()\n",
        "model1.fit(X_train, y_train)"
      ]
    },
    {
      "cell_type": "markdown",
      "id": "0d6dde32-0257-4542-b6cb-0b9d82833048",
      "metadata": {
        "id": "0d6dde32-0257-4542-b6cb-0b9d82833048"
      },
      "source": [
        "## Đánh giá"
      ]
    },
    {
      "cell_type": "code",
      "execution_count": 11,
      "id": "9d163fa8-9309-40fb-b435-444beb295c84",
      "metadata": {
        "id": "9d163fa8-9309-40fb-b435-444beb295c84"
      },
      "outputs": [],
      "source": [
        "from sklearn.metrics import mean_squared_error\n",
        "\n",
        "def relative_error(y_true, y_pred):\n",
        "    errors = np.abs(y_pred - y_true).astype(float) / y_true\n",
        "    return np.mean(errors)*100"
      ]
    },
    {
      "cell_type": "code",
      "execution_count": 12,
      "id": "2899d591-f9c6-4c40-b126-ef1d1660eb1c",
      "metadata": {
        "id": "2899d591-f9c6-4c40-b126-ef1d1660eb1c",
        "outputId": "98afb932-6feb-4bcc-f909-fe4062104e49",
        "colab": {
          "base_uri": "https://localhost:8080/"
        }
      },
      "outputs": [
        {
          "output_type": "stream",
          "name": "stdout",
          "text": [
            "RMSE: 5017.35\n",
            "Mean relative errors: 19.0%\n"
          ]
        }
      ],
      "source": [
        "y_pred_test = model1.predict(X_test)\n",
        "print ('RMSE: {:.2f}'.format(np.sqrt(mean_squared_error(y_test, y_pred_test))))\n",
        "print ('Mean relative errors: {:.1f}%'.format(relative_error(y_test, y_pred_test)))"
      ]
    },
    {
      "cell_type": "code",
      "execution_count": 13,
      "id": "ba545a96-a97e-483c-a31c-7fee063f479e",
      "metadata": {
        "tags": [],
        "id": "ba545a96-a97e-483c-a31c-7fee063f479e",
        "outputId": "50314d0a-23f4-4fd5-b4d3-5e3446274ec6",
        "colab": {
          "base_uri": "https://localhost:8080/",
          "height": 542
        }
      },
      "outputs": [
        {
          "output_type": "display_data",
          "data": {
            "text/plain": [
              "<Figure size 900x600 with 1 Axes>"
            ],
            "image/png": "[encoded data removed]"
          },
          "metadata": {}
        }
      ],
      "source": [
        "###### exercise #####\n",
        "# Yêu cầu: Vẽ biểu đồ đường so sánh y_test và y_pred_test\n",
        "# Gợi ý: sử dụng matplotlib như bài thực hành 1\n",
        "######################\n",
        "import matplotlib.pyplot as plt\n",
        "\n",
        "plt.figure(figsize=(9,6))\n",
        "\n",
        "plt.plot(y_test)\n",
        "plt.plot(y_pred_test)\n",
        "\n",
        "plt.xlabel('Time index')\n",
        "\n",
        "plt.ylabel('Sales')\n",
        "\n",
        "\n",
        "# function to show the plot\n",
        "plt.show()"
      ]
    },
    {
      "cell_type": "markdown",
      "id": "e4e7b12e-d073-46ec-bf04-33cd7b6c3da7",
      "metadata": {
        "id": "e4e7b12e-d073-46ec-bf04-33cd7b6c3da7"
      },
      "source": [
        "Kết quả dự đoán không khớp một chút nào so với dữ liệu thật\n",
        "\n",
        "Lý do có thể là vì chúng ta chưa tận dụng hết thông tin của dữ liệu\n",
        "\n",
        "Quan sát thấy doanh thu có xu hướng biến động theo từ tháng trong một năm\n",
        "\n",
        "=> Tận dụng thông tin tháng hiệu quả. Có thể xây dựng mô hình regression với đặc trưng Month theo kiểu categorical kết hợp với các đặc trưng khác."
      ]
    },
    {
      "cell_type": "markdown",
      "id": "74c08d87-c460-4821-96fe-28c3d269704c",
      "metadata": {
        "id": "74c08d87-c460-4821-96fe-28c3d269704c"
      },
      "source": [
        "## Giải pháp cải tiến"
      ]
    },
    {
      "cell_type": "code",
      "execution_count": 14,
      "id": "4725ca58-e860-4790-b071-27efc7b714db",
      "metadata": {
        "id": "4725ca58-e860-4790-b071-27efc7b714db",
        "outputId": "cf4de3ee-dae8-4bc2-e74e-7b95c13e95ca",
        "colab": {
          "base_uri": "https://localhost:8080/",
          "height": 206
        }
      },
      "outputs": [
        {
          "output_type": "execute_result",
          "data": {
            "text/plain": [
              "   1   2   3   4   5   6   7   8   9   10  11  12\n",
              "0   1   0   0   0   0   0   0   0   0   0   0   0\n",
              "1   0   1   0   0   0   0   0   0   0   0   0   0\n",
              "2   0   0   1   0   0   0   0   0   0   0   0   0\n",
              "3   0   0   0   1   0   0   0   0   0   0   0   0\n",
              "4   0   0   0   0   1   0   0   0   0   0   0   0"
            ],
            "text/html": [
              "\n",
              "\n",
              "  <div id=\"df-673fa805-74a6-410c-af16-27b8a7e0ea62\">\n",
              "    <div class=\"colab-df-container\">\n",
              "      <div>\n",
              "<style scoped>\n",
              "    .dataframe tbody tr th:only-of-type {\n",
              "        vertical-align: middle;\n",
              "    }\n",
              "\n",
              "    .dataframe tbody tr th {\n",
              "        vertical-align: top;\n",
              "    }\n",
              "\n",
              "    .dataframe thead th {\n",
              "        text-align: right;\n",
              "    }\n",
              "</style>\n",
              "<table border=\"1\" class=\"dataframe\">\n",
              "  <thead>\n",
              "    <tr style=\"text-align: right;\">\n",
              "      <th></th>\n",
              "      <th>1</th>\n",
              "      <th>2</th>\n",
              "      <th>3</th>\n",
              "      <th>4</th>\n",
              "      <th>5</th>\n",
              "      <th>6</th>\n",
              "      <th>7</th>\n",
              "      <th>8</th>\n",
              "      <th>9</th>\n",
              "      <th>10</th>\n",
              "      <th>11</th>\n",
              "      <th>12</th>\n",
              "    </tr>\n",
              "  </thead>\n",
              "  <tbody>\n",
              "    <tr>\n",
              "      <th>0</th>\n",
              "      <td>1</td>\n",
              "      <td>0</td>\n",
              "      <td>0</td>\n",
              "      <td>0</td>\n",
              "      <td>0</td>\n",
              "      <td>0</td>\n",
              "      <td>0</td>\n",
              "      <td>0</td>\n",
              "      <td>0</td>\n",
              "      <td>0</td>\n",
              "      <td>0</td>\n",
              "      <td>0</td>\n",
              "    </tr>\n",
              "    <tr>\n",
              "      <th>1</th>\n",
              "      <td>0</td>\n",
              "      <td>1</td>\n",
              "      <td>0</td>\n",
              "      <td>0</td>\n",
              "      <td>0</td>\n",
              "      <td>0</td>\n",
              "      <td>0</td>\n",
              "      <td>0</td>\n",
              "      <td>0</td>\n",
              "      <td>0</td>\n",
              "      <td>0</td>\n",
              "      <td>0</td>\n",
              "    </tr>\n",
              "    <tr>\n",
              "      <th>2</th>\n",
              "      <td>0</td>\n",
              "      <td>0</td>\n",
              "      <td>1</td>\n",
              "      <td>0</td>\n",
              "      <td>0</td>\n",
              "      <td>0</td>\n",
              "      <td>0</td>\n",
              "      <td>0</td>\n",
              "      <td>0</td>\n",
              "      <td>0</td>\n",
              "      <td>0</td>\n",
              "      <td>0</td>\n",
              "    </tr>\n",
              "    <tr>\n",
              "      <th>3</th>\n",
              "      <td>0</td>\n",
              "      <td>0</td>\n",
              "      <td>0</td>\n",
              "      <td>1</td>\n",
              "      <td>0</td>\n",
              "      <td>0</td>\n",
              "      <td>0</td>\n",
              "      <td>0</td>\n",
              "      <td>0</td>\n",
              "      <td>0</td>\n",
              "      <td>0</td>\n",
              "      <td>0</td>\n",
              "    </tr>\n",
              "    <tr>\n",
              "      <th>4</th>\n",
              "      <td>0</td>\n",
              "      <td>0</td>\n",
              "      <td>0</td>\n",
              "      <td>0</td>\n",
              "      <td>1</td>\n",
              "      <td>0</td>\n",
              "      <td>0</td>\n",
              "      <td>0</td>\n",
              "      <td>0</td>\n",
              "      <td>0</td>\n",
              "      <td>0</td>\n",
              "      <td>0</td>\n",
              "    </tr>\n",
              "  </tbody>\n",
              "</table>\n",
              "</div>\n",
              "      <button class=\"colab-df-convert\" onclick=\"convertToInteractive('df-673fa805-74a6-410c-af16-27b8a7e0ea62')\"\n",
              "              title=\"Convert this dataframe to an interactive table.\"\n",
              "              style=\"display:none;\">\n",
              "\n",
              "  <svg xmlns=\"http://www.w3.org/2000/svg\" height=\"24px\"viewBox=\"0 0 24 24\"\n",
              "       width=\"24px\">\n",
              "    <path d=\"M0 0h24v24H0V0z\" fill=\"none\"/>\n",
              "    <path d=\"M18.56 5.44l.94 2.06.94-2.06 2.06-.94-2.06-.94-.94-2.06-.94 2.06-2.06.94zm-11 1L8.5 8.5l.94-2.06 2.06-.94-2.06-.94L8.5 2.5l-.94 2.06-2.06.94zm10 10l.94 2.06.94-2.06 2.06-.94-2.06-.94-.94-2.06-.94 2.06-2.06.94z\"/><path d=\"M17.41 7.96l-1.37-1.37c-.4-.4-.92-.59-1.43-.59-.52 0-1.04.2-1.43.59L10.3 9.45l-7.72 7.72c-.78.78-.78 2.05 0 2.83L4 21.41c.39.39.9.59 1.41.59.51 0 1.02-.2 1.41-.59l7.78-7.78 2.81-2.81c.8-.78.8-2.07 0-2.86zM5.41 20L4 18.59l7.72-7.72 1.47 1.35L5.41 20z\"/>\n",
              "  </svg>\n",
              "      </button>\n",
              "\n",
              "\n",
              "\n",
              "    <div id=\"df-fde15c6d-0f91-4217-bb00-5a1da68143db\">\n",
              "      <button class=\"colab-df-quickchart\" onclick=\"quickchart('df-fde15c6d-0f91-4217-bb00-5a1da68143db')\"\n",
              "              title=\"Suggest charts.\"\n",
              "              style=\"display:none;\">\n",
              "\n",
              "<svg xmlns=\"http://www.w3.org/2000/svg\" height=\"24px\"viewBox=\"0 0 24 24\"\n",
              "     width=\"24px\">\n",
              "    <g>\n",
              "        <path d=\"M19 3H5c-1.1 0-2 .9-2 2v14c0 1.1.9 2 2 2h14c1.1 0 2-.9 2-2V5c0-1.1-.9-2-2-2zM9 17H7v-7h2v7zm4 0h-2V7h2v10zm4 0h-2v-4h2v4z\"/>\n",
              "    </g>\n",
              "</svg>\n",
              "      </button>\n",
              "    </div>\n",
              "\n",
              "<style>\n",
              "  .colab-df-quickchart {\n",
              "    background-color: #E8F0FE;\n",
              "    border: none;\n",
              "    border-radius: 50%;\n",
              "    cursor: pointer;\n",
              "    display: none;\n",
              "    fill: #1967D2;\n",
              "    height: 32px;\n",
              "    padding: 0 0 0 0;\n",
              "    width: 32px;\n",
              "  }\n",
              "\n",
              "  .colab-df-quickchart:hover {\n",
              "    background-color: #E2EBFA;\n",
              "    box-shadow: 0px 1px 2px rgba(60, 64, 67, 0.3), 0px 1px 3px 1px rgba(60, 64, 67, 0.15);\n",
              "    fill: #174EA6;\n",
              "  }\n",
              "\n",
              "  [theme=dark] .colab-df-quickchart {\n",
              "    background-color: #3B4455;\n",
              "    fill: #D2E3FC;\n",
              "  }\n",
              "\n",
              "  [theme=dark] .colab-df-quickchart:hover {\n",
              "    background-color: #434B5C;\n",
              "    box-shadow: 0px 1px 3px 1px rgba(0, 0, 0, 0.15);\n",
              "    filter: drop-shadow(0px 1px 2px rgba(0, 0, 0, 0.3));\n",
              "    fill: #FFFFFF;\n",
              "  }\n",
              "</style>\n",
              "\n",
              "    <script>\n",
              "      async function quickchart(key) {\n",
              "        const containerElement = document.querySelector('#' + key);\n",
              "        const charts = await google.colab.kernel.invokeFunction(\n",
              "            'suggestCharts', [key], {});\n",
              "      }\n",
              "    </script>\n",
              "\n",
              "      <script>\n",
              "\n",
              "function displayQuickchartButton(domScope) {\n",
              "  let quickchartButtonEl =\n",
              "    domScope.querySelector('#df-fde15c6d-0f91-4217-bb00-5a1da68143db button.colab-df-quickchart');\n",
              "  quickchartButtonEl.style.display =\n",
              "    google.colab.kernel.accessAllowed ? 'block' : 'none';\n",
              "}\n",
              "\n",
              "        displayQuickchartButton(document);\n",
              "      </script>\n",
              "      <style>\n",
              "    .colab-df-container {\n",
              "      display:flex;\n",
              "      flex-wrap:wrap;\n",
              "      gap: 12px;\n",
              "    }\n",
              "\n",
              "    .colab-df-convert {\n",
              "      background-color: #E8F0FE;\n",
              "      border: none;\n",
              "      border-radius: 50%;\n",
              "      cursor: pointer;\n",
              "      display: none;\n",
              "      fill: #1967D2;\n",
              "      height: 32px;\n",
              "      padding: 0 0 0 0;\n",
              "      width: 32px;\n",
              "    }\n",
              "\n",
              "    .colab-df-convert:hover {\n",
              "      background-color: #E2EBFA;\n",
              "      box-shadow: 0px 1px 2px rgba(60, 64, 67, 0.3), 0px 1px 3px 1px rgba(60, 64, 67, 0.15);\n",
              "      fill: #174EA6;\n",
              "    }\n",
              "\n",
              "    [theme=dark] .colab-df-convert {\n",
              "      background-color: #3B4455;\n",
              "      fill: #D2E3FC;\n",
              "    }\n",
              "\n",
              "    [theme=dark] .colab-df-convert:hover {\n",
              "      background-color: #434B5C;\n",
              "      box-shadow: 0px 1px 3px 1px rgba(0, 0, 0, 0.15);\n",
              "      filter: drop-shadow(0px 1px 2px rgba(0, 0, 0, 0.3));\n",
              "      fill: #FFFFFF;\n",
              "    }\n",
              "  </style>\n",
              "\n",
              "      <script>\n",
              "        const buttonEl =\n",
              "          document.querySelector('#df-673fa805-74a6-410c-af16-27b8a7e0ea62 button.colab-df-convert');\n",
              "        buttonEl.style.display =\n",
              "          google.colab.kernel.accessAllowed ? 'block' : 'none';\n",
              "\n",
              "        async function convertToInteractive(key) {\n",
              "          const element = document.querySelector('#df-673fa805-74a6-410c-af16-27b8a7e0ea62');\n",
              "          const dataTable =\n",
              "            await google.colab.kernel.invokeFunction('convertToInteractive',\n",
              "                                                     [key], {});\n",
              "          if (!dataTable) return;\n",
              "\n",
              "          const docLinkHtml = 'Like what you see? Visit the ' +\n",
              "            '<a target=\"_blank\" href=https://colab.research.google.com/notebooks/data_table.ipynb>data table notebook</a>'\n",
              "            + ' to learn more about interactive tables.';\n",
              "          element.innerHTML = '';\n",
              "          dataTable['output_type'] = 'display_data';\n",
              "          await google.colab.output.renderOutput(dataTable, element);\n",
              "          const docLink = document.createElement('div');\n",
              "          docLink.innerHTML = docLinkHtml;\n",
              "          element.appendChild(docLink);\n",
              "        }\n",
              "      </script>\n",
              "    </div>\n",
              "  </div>\n"
            ]
          },
          "metadata": {},
          "execution_count": 14
        }
      ],
      "source": [
        "month_onehot_train = pd.get_dummies(df_train.Month)\n",
        "month_onehot_train.head()"
      ]
    },
    {
      "cell_type": "code",
      "execution_count": 15,
      "id": "8640eb1c-a9f5-4f6b-9e68-4732c1d785cf",
      "metadata": {
        "id": "8640eb1c-a9f5-4f6b-9e68-4732c1d785cf",
        "outputId": "1b8fc25b-7ce4-4f1b-942a-1304ae4a6c3f",
        "colab": {
          "base_uri": "https://localhost:8080/"
        }
      },
      "outputs": [
        {
          "output_type": "execute_result",
          "data": {
            "text/plain": [
              "array([ 1.24576653, -1.25517995, -1.21438113, -1.35903692,  1.        ,\n",
              "        0.        ,  0.        ,  0.        ,  0.        ,  0.        ,\n",
              "        0.        ,  0.        ,  0.        ,  0.        ,  0.        ,\n",
              "        0.        ])"
            ]
          },
          "metadata": {},
          "execution_count": 15
        }
      ],
      "source": [
        "###### exercise #####\n",
        "# Yêu cầu: Ghép đặc trưng Month_1, ..., Month_12 vào các đặc trưng đang có, kết quả ở dạng numpy array\n",
        "# Gợi ý: sử dụng np.hstack\n",
        "######################\n",
        "X_train = np.hstack((X_train, month_onehot_train))\n",
        "X_train[0]"
      ]
    },
    {
      "cell_type": "code",
      "execution_count": 16,
      "id": "15ecc731-9222-48f3-89a4-3b82b7a89ea6",
      "metadata": {
        "id": "15ecc731-9222-48f3-89a4-3b82b7a89ea6"
      },
      "outputs": [],
      "source": [
        "# Tương tự với X_test\n",
        "X_test = np.hstack((X_test, pd.get_dummies(df_test.Month)))"
      ]
    },
    {
      "cell_type": "code",
      "execution_count": 17,
      "id": "2f16fa13-c6fd-4849-8f22-46f5bb903c8c",
      "metadata": {
        "id": "2f16fa13-c6fd-4849-8f22-46f5bb903c8c",
        "outputId": "7819b1c5-1b5f-4bee-acbe-cbc47808befc",
        "colab": {
          "base_uri": "https://localhost:8080/",
          "height": 74
        }
      },
      "outputs": [
        {
          "output_type": "execute_result",
          "data": {
            "text/plain": [
              "LinearRegression()"
            ],
            "text/html": [
              "<style>#sk-container-id-2 {color: black;background-color: white;}#sk-container-id-2 pre{padding: 0;}#sk-container-id-2 div.sk-toggleable {background-color: white;}#sk-container-id-2 label.sk-toggleable__label {cursor: pointer;display: block;width: 100%;margin-bottom: 0;padding: 0.3em;box-sizing: border-box;text-align: center;}#sk-container-id-2 label.sk-toggleable__label-arrow:before {content: \"▸\";float: left;margin-right: 0.25em;color: #696969;}#sk-container-id-2 label.sk-toggleable__label-arrow:hover:before {color: black;}#sk-container-id-2 div.sk-estimator:hover label.sk-toggleable__label-arrow:before {color: black;}#sk-container-id-2 div.sk-toggleable__content {max-height: 0;max-width: 0;overflow: hidden;text-align: left;background-color: #f0f8ff;}#sk-container-id-2 div.sk-toggleable__content pre {margin: 0.2em;color: black;border-radius: 0.25em;background-color: #f0f8ff;}#sk-container-id-2 input.sk-toggleable__control:checked~div.sk-toggleable__content {max-height: 200px;max-width: 100%;overflow: auto;}#sk-container-id-2 input.sk-toggleable__control:checked~label.sk-toggleable__label-arrow:before {content: \"▾\";}#sk-container-id-2 div.sk-estimator input.sk-toggleable__control:checked~label.sk-toggleable__label {background-color: #d4ebff;}#sk-container-id-2 div.sk-label input.sk-toggleable__control:checked~label.sk-toggleable__label {background-color: #d4ebff;}#sk-container-id-2 input.sk-hidden--visually {border: 0;clip: rect(1px 1px 1px 1px);clip: rect(1px, 1px, 1px, 1px);height: 1px;margin: -1px;overflow: hidden;padding: 0;position: absolute;width: 1px;}#sk-container-id-2 div.sk-estimator {font-family: monospace;background-color: #f0f8ff;border: 1px dotted black;border-radius: 0.25em;box-sizing: border-box;margin-bottom: 0.5em;}#sk-container-id-2 div.sk-estimator:hover {background-color: #d4ebff;}#sk-container-id-2 div.sk-parallel-item::after {content: \"\";width: 100%;border-bottom: 1px solid gray;flex-grow: 1;}#sk-container-id-2 div.sk-label:hover label.sk-toggleable__label {background-color: #d4ebff;}#sk-container-id-2 div.sk-serial::before {content: \"\";position: absolute;border-left: 1px solid gray;box-sizing: border-box;top: 0;bottom: 0;left: 50%;z-index: 0;}#sk-container-id-2 div.sk-serial {display: flex;flex-direction: column;align-items: center;background-color: white;padding-right: 0.2em;padding-left: 0.2em;position: relative;}#sk-container-id-2 div.sk-item {position: relative;z-index: 1;}#sk-container-id-2 div.sk-parallel {display: flex;align-items: stretch;justify-content: center;background-color: white;position: relative;}#sk-container-id-2 div.sk-item::before, #sk-container-id-2 div.sk-parallel-item::before {content: \"\";position: absolute;border-left: 1px solid gray;box-sizing: border-box;top: 0;bottom: 0;left: 50%;z-index: -1;}#sk-container-id-2 div.sk-parallel-item {display: flex;flex-direction: column;z-index: 1;position: relative;background-color: white;}#sk-container-id-2 div.sk-parallel-item:first-child::after {align-self: flex-end;width: 50%;}#sk-container-id-2 div.sk-parallel-item:last-child::after {align-self: flex-start;width: 50%;}#sk-container-id-2 div.sk-parallel-item:only-child::after {width: 0;}#sk-container-id-2 div.sk-dashed-wrapped {border: 1px dashed gray;margin: 0 0.4em 0.5em 0.4em;box-sizing: border-box;padding-bottom: 0.4em;background-color: white;}#sk-container-id-2 div.sk-label label {font-family: monospace;font-weight: bold;display: inline-block;line-height: 1.2em;}#sk-container-id-2 div.sk-label-container {text-align: center;}#sk-container-id-2 div.sk-container {/* jupyter's `normalize.less` sets `[hidden] { display: none; }` but bootstrap.min.css set `[hidden] { display: none !important; }` so we also need the `!important` here to be able to override the default hidden behavior on the sphinx rendered scikit-learn.org. See: https://github.com/scikit-learn/scikit-learn/issues/21755 */display: inline-block !important;position: relative;}#sk-container-id-2 div.sk-text-repr-fallback {display: none;}</style><div id=\"sk-container-id-2\" class=\"sk-top-container\"><div class=\"sk-text-repr-fallback\"><pre>LinearRegression()</pre><b>In a Jupyter environment, please rerun this cell to show the HTML representation or trust the notebook. <br />On GitHub, the HTML representation is unable to render, please try loading this page with nbviewer.org.</b></div><div class=\"sk-container\" hidden><div class=\"sk-item\"><div class=\"sk-estimator sk-toggleable\"><input class=\"sk-toggleable__control sk-hidden--visually\" id=\"sk-estimator-id-2\" type=\"checkbox\" checked><label for=\"sk-estimator-id-2\" class=\"sk-toggleable__label sk-toggleable__label-arrow\">LinearRegression</label><div class=\"sk-toggleable__content\"><pre>LinearRegression()</pre></div></div></div></div></div>"
            ]
          },
          "metadata": {},
          "execution_count": 17
        }
      ],
      "source": [
        "model1.fit(X_train, y_train)"
      ]
    },
    {
      "cell_type": "code",
      "execution_count": 18,
      "id": "205642ee-8d3d-4435-805a-449f93bde132",
      "metadata": {
        "id": "205642ee-8d3d-4435-805a-449f93bde132",
        "outputId": "addfe4cd-feb4-40b5-f7cb-ed6b9d783a7c",
        "colab": {
          "base_uri": "https://localhost:8080/"
        }
      },
      "outputs": [
        {
          "output_type": "stream",
          "name": "stdout",
          "text": [
            "RMSE: 3590.37\n",
            "Mean relative errors: 12.8%\n"
          ]
        }
      ],
      "source": [
        "y_pred_test = model1.predict(X_test)\n",
        "print ('RMSE: {:.2f}'.format(np.sqrt(mean_squared_error(y_test, y_pred_test))))\n",
        "print ('Mean relative errors: {:.1f}%'.format(relative_error(y_test, y_pred_test)))"
      ]
    },
    {
      "cell_type": "code",
      "execution_count": 19,
      "id": "99b73e09-3c87-428d-8625-5599a7ca4047",
      "metadata": {
        "id": "99b73e09-3c87-428d-8625-5599a7ca4047",
        "outputId": "31e46ade-1eb7-497d-9ea8-97a010c35ce2",
        "colab": {
          "base_uri": "https://localhost:8080/",
          "height": 542
        }
      },
      "outputs": [
        {
          "output_type": "display_data",
          "data": {
            "text/plain": [
              "<Figure size 900x600 with 1 Axes>"
            ],
            "image/png": "[encoded data removed]"
          },
          "metadata": {}
        }
      ],
      "source": [
        "plt.figure(figsize=(9,6))\n",
        "\n",
        "plt.plot(y_test)\n",
        "plt.plot(y_pred_test)\n",
        "\n",
        "plt.xlabel('Time index')\n",
        "\n",
        "plt.ylabel('Sales')\n",
        "\n",
        "\n",
        "# function to show the plot\n",
        "plt.show()"
      ]
    }
  ],
  "metadata": {
    "kernelspec": {
      "display_name": "Python 3",
      "language": "python",
      "name": "python3"
    },
    "language_info": {
      "codemirror_mode": {
        "name": "ipython",
        "version": 3
      },
      "file_extension": ".py",
      "mimetype": "text/x-python",
      "name": "python",
      "nbconvert_exporter": "python",
      "pygments_lexer": "ipython3",
      "version": "3.8.8"
    },
    "colab": {
      "provenance": []
    }
  },
  "nbformat": 4,
  "nbformat_minor": 5
}