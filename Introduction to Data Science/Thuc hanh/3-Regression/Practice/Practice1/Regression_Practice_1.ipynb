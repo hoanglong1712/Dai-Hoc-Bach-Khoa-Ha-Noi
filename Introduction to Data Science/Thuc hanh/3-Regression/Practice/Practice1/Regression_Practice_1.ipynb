{
  "cells": [
    {
      "cell_type": "markdown",
      "metadata": {
        "id": "Af0eMyZrmnE5"
      },
      "source": [
        "# Bài thực hành 1\n",
        "\n",
        "## Vấn đề\n",
        "_Dự đoán khả năng tiến triển của bệnh tiểu đường thông qua các chỉ số sinh lý của cơ thể._\n",
        "\n",
        "\n",
        "## Thông tin dữ liệu:\n",
        "\n",
        "- Số lượng mẫu: 442 (thông tin từ 442 bệnh nhân)\n",
        "- Số lượng thuộc tính:\n",
        "    Thông tin các thuộc tính (10 cột giá trị đầu tiên): Age(tuổi), Sex (giới tính),\n",
        "    Body mass index (chỉ số khối cơ thể), Average blood pressure(huyết ap trung bình), S1, S2, S3, S4, S5, S6 (sáu phép đo huyết thanh khác).\n",
        "- Mục tiêu:\tCột 11, chỉ số đánh giá mức độ tiến triển của bệnh 1 năm sau khi điều trị.\n",
        "\n",
        "**! Chú ý: Dữ liệu thông tin thuộc tính đã được chuẩn hoá**\n",
        "\n",
        "Xem thêm thông tin về nguồn dữ liệu tại: (https://www4.stat.ncsu.edu/~boos/var.select/diabetes.html)\n"
      ]
    },
    {
      "cell_type": "markdown",
      "metadata": {
        "id": "I7f72pIrmnFI"
      },
      "source": [
        "# Hướng giải quyết\n",
        "\n",
        "Giả sử rằng khả năng tiến triển của bệnh tiểu đường (ký hiệu: `y`) là đại lượng phụ thuộc tuyến tính vào các thông tin sinh lý của bệnh nhân như các thuộc tính đã mô tả ở trên (tuổi, giới tính, chỉ số khối, ... - ký hiệu: `x1, x2, .. x_n`) :\n",
        "\n",
        "`y = w0 + w1*x1 + w2*x2 + ... + w_n*x_n`\n",
        "\n",
        "Mục tiêu: Tìm được bộ trọng số `[w0, w1, ... w_n]` biểu diễn mối quan hệ này."
      ]
    },
    {
      "cell_type": "markdown",
      "source": [
        "#Các bước tiến hành"
      ],
      "metadata": {
        "id": "UilPmwqDmphT"
      }
    },
    {
      "cell_type": "markdown",
      "metadata": {
        "id": "lC0Nb_0emnFJ"
      },
      "source": [
        "## Thư viện sử dụng\n",
        "\n",
        "- matplotlib: phục vụ vẽ các đồ thị\n",
        "- numpy: tính toán các phép biến đổi trên ma trận / vector\n",
        "- math: thực hiện một số hàm tính toán\n",
        "- pandas: phục vụ chuyển đổi trên dữ liệu dạng bảng\n",
        "- scikit-learn: (sklearn) thư viện hỗ trợ xây dựng các mô hình học máy, các hàm training và testing.\n"
      ]
    },
    {
      "cell_type": "code",
      "execution_count": null,
      "metadata": {
        "id": "52l_xKkwmnFK"
      },
      "outputs": [],
      "source": [
        "!pip install pandas"
      ]
    },
    {
      "cell_type": "code",
      "execution_count": null,
      "metadata": {
        "id": "59c75tRumnFM"
      },
      "outputs": [],
      "source": [
        "import matplotlib.pyplot as plt\n",
        "import numpy as np\n",
        "import pandas as pd\n",
        "import math\n",
        "\n",
        "from sklearn import datasets, linear_model\n",
        "from sklearn.metrics import mean_squared_error, r2_score\n"
      ]
    },
    {
      "cell_type": "markdown",
      "metadata": {
        "id": "6f_DrTPnmnFN"
      },
      "source": [
        "## Đọc dữ liệu\n",
        "\n",
        "Dữ liệu về bệnh tiểu đường được hỗ trợ bởi sklearn, đọc dữ liệu thông qua hàm `datasets.load_diabetes()`\n",
        "\n",
        "Xem thêm các bộ dữ liệu khác tại https://scikit-learn.org/stable/datasets/index.html#toy-datasets.\n",
        "https://scikit-learn.org/stable/datasets/toy_dataset.html\n",
        "\n",
        "Dữ liệu nhận về ở dạng object với các thành phần thuộc tính:"
      ]
    },
    {
      "cell_type": "markdown",
      "metadata": {
        "id": "TCKggeSBmnFO"
      },
      "source": [
        "- data: ma trận 2 chiều (442x10) - các thông tin bệnh nhân được chuẩn hoá về dạng số thực.\n",
        "- target: mảng các số thực (442,) - chỉ số tiến triển của bệnh tiểu đường."
      ]
    },
    {
      "cell_type": "code",
      "execution_count": null,
      "metadata": {
        "scrolled": true,
        "id": "6tY48DzImnFP"
      },
      "outputs": [],
      "source": [
        "# lay du lieu diabetes - du lieu ve benh tieu duong\n",
        "diabetes = datasets.load_diabetes()\n",
        "print(\"Số chiều dữ liệu input: \", diabetes.data.shape)\n",
        "print(\"Kiểu dữ liệu input: \", type(diabetes.data))\n",
        "print(\"Số chiều dữ liệu target: \", diabetes.target.shape)\n",
        "print(\"Kiểu dữ liệu target: \", type(diabetes.target))\n",
        "print()\n",
        "\n",
        "print(\"5 mẫu dữ liệu đầu tiên:\")\n",
        "print(\"input: \", diabetes.data[:5])\n",
        "print(\"target: \",diabetes.target[:5])\n",
        "#print(\"data[5,1]\", diabetes.data[4,1])"
      ]
    },
    {
      "cell_type": "markdown",
      "metadata": {
        "id": "hqOum190mnFQ"
      },
      "source": [
        "**Chia dữ liệu làm 2 phần training 362 mẫu và testing 80 mẫu**"
      ]
    },
    {
      "cell_type": "code",
      "execution_count": null,
      "metadata": {
        "id": "oVtUt77pmnFR"
      },
      "outputs": [],
      "source": [
        "# cat nho du lieu, lay 1 phan cho qua trinh thu nghiem,\n",
        "# chia train test cac mau du lieu\n",
        "# diabetes_X = diabetes.data[:, np.newaxis, 2]\n",
        "diabetes_X = diabetes.data\n",
        "\n",
        "diabetes_X_train = diabetes_X[:361]\n",
        "diabetes_y_train = diabetes.target[:361]\n",
        "\n",
        "diabetes_X_test = diabetes_X[362:]\n",
        "diabetes_y_test = diabetes.target[362:]"
      ]
    },
    {
      "cell_type": "markdown",
      "metadata": {
        "id": "wqaiCm4VmnFR"
      },
      "source": [
        "## Xây dựng mô hình Regression sử dụng Sklearn\n",
        "\n",
        "Thử nghiệm xây dựng mô hình hồi quy (Linear Regression / Ridge Regression) để học được bộ tham số"
      ]
    },
    {
      "cell_type": "markdown",
      "metadata": {
        "id": "xAEPCNjgmnFS"
      },
      "source": [
        "- [Linear Regression](https://scikit-learn.org/stable/modules/generated/sklearn.linear_model.LinearRegression.html) `linear_model.LinearRegression()`\n",
        "- [Ridge Regression](https://scikit-learn.org/stable/modules/generated/sklearn.linear_model.Ridge.html#sklearn.linear_model.Ridge) `linear_model.Ridge()`"
      ]
    },
    {
      "cell_type": "code",
      "execution_count": null,
      "metadata": {
        "id": "XT2sXR6imnFS"
      },
      "outputs": [],
      "source": [
        "# Xay dung model su dung sklearn\n",
        "regr = linear_model.LinearRegression()\n"
      ]
    },
    {
      "cell_type": "code",
      "execution_count": null,
      "metadata": {
        "id": "div0BVPsmnFT"
      },
      "outputs": [],
      "source": [
        "##### exercise #####\n",
        "# Yêu cầu: Cài đặt mô hình Ridge Regression với alpha = 0.1\n",
        "# Gợi ý: xem hướng dẫn tại https://scikit-learn.org/stable/modules/generated/sklearn.linear_model.Ridge.html\n",
        "######################"
      ]
    },
    {
      "cell_type": "markdown",
      "metadata": {
        "id": "KhebD_bjmnFU"
      },
      "source": [
        "## Training mô hình\n",
        "\n",
        "Sử dụng Dữ liệu đã được chia ở bước trước đó để thực hiện training model.\n",
        "\n",
        "=> Tìm được bộ trọng số `[w0, w1, ... w_n]`"
      ]
    },
    {
      "cell_type": "code",
      "execution_count": null,
      "metadata": {
        "id": "sJkXeIVLmnFU"
      },
      "outputs": [],
      "source": [
        "# Huấn luyện mô hình Linear Regression\n",
        "regr.fit(diabetes_X_train, diabetes_y_train)\n",
        "print(\"[w1, ... w_n] = \", regr.coef_)\n",
        "print(\"w0 = \", regr.intercept_)"
      ]
    },
    {
      "cell_type": "code",
      "execution_count": null,
      "metadata": {
        "id": "zQqcfUc2mnFV"
      },
      "outputs": [],
      "source": [
        "##### exercise #####\n",
        "# Yêu cầu: Huấn luyện mô hình Ridge Regression và in ra các trọng số w0, w1, ...,wn của mô hình\n",
        "# Gợi ý: xem hướng dẫn tại https://scikit-learn.org/stable/modules/generated/sklearn.linear_model.Ridge.html\n",
        "######################"
      ]
    },
    {
      "cell_type": "code",
      "execution_count": null,
      "metadata": {
        "tags": [],
        "id": "Q4jrTHP_mnFV"
      },
      "outputs": [],
      "source": [
        "##### exercise #####\n",
        "# Yêu cầu: tính giá trị dự đoán của mô hình trên mẫu đầu tiên của tập test và so sánh với kết quả của thư viện\n",
        "# Gợi ý: sử dụng công thức y = w0 + w1*x1 + w1*x2 + ... + w_n*x_n\n",
        "######################\n",
        "#Dự đoán thử cho trường hợp đầu tiên\n",
        "\n",
        "#Giá trị đúng\n",
        "print(\"Gia tri true: \", diabetes_y_test[0])\n",
        "\n",
        "#Dự đoán cho mô hình Linear Regression sử dụng hàm dự đoán của thư viện\n",
        "y_pred_linear = regr.predict(diabetes_X_test[0:1])\n",
        "print(\"Gia tri du doan cho mô hình linear regression: \", y_pred_linear)\n",
        "\n",
        "#Viết code tính và in kết quả dự đoán cho mô hình Linear Regression sử dụng công thức tại đây\n",
        "\n",
        "#Dự đoán cho mô hình Ridge Regression sử dụng hàm dự đoán của thư viện\n",
        "y_pred_ridge = regr_ridge.predict(diabetes_X_test[0:1])\n",
        "print(\"Gia tri du doan cho mô hình ridge regression: \", y_pred_ridge)\n",
        "\n",
        "#Viết code tính và in kết quả dự đoán cho mô hình Ridge Regression sử dụng công thức tại đây\n",
        "\n",
        "######################"
      ]
    },
    {
      "cell_type": "markdown",
      "metadata": {
        "id": "66W_sDvpmnFW"
      },
      "source": [
        "## Dự đoán các mẫu dữ liệu trong tập test"
      ]
    },
    {
      "cell_type": "code",
      "execution_count": null,
      "metadata": {
        "id": "bY4SWXIzmnFW"
      },
      "outputs": [],
      "source": [
        "# Thực hiện suy diễn sau khi huấn luyện\n",
        "diabetes_y_pred = regr.predict(diabetes_X_test)\n",
        "pd.DataFrame(data=np.array([diabetes_y_test, diabetes_y_pred,\n",
        "                            abs(diabetes_y_test - diabetes_y_pred)]).T,\n",
        "             columns=[\"Thực tế\", \"Dự đoán\", \"Lệch\"])\n",
        "\n",
        "# pd.DataFrame(data=np.array([diabetes_y_test, diabetes_y_pred,\n",
        "#                             abs(diabetes_y_test - diabetes_y_pred)]),\n",
        "#              index=[\"Thực tế\", \"Dự đoán\", \"Lệch\"])"
      ]
    },
    {
      "cell_type": "markdown",
      "metadata": {
        "id": "uzw6HtfVmnFX"
      },
      "source": [
        "## Đánh giá\n",
        "\n",
        "Sử dụng độ đo RMSE tính căn bậc 2 của trung bình bình phương lỗi.\n",
        "> $\\text{RMSE}(y, \\hat{y}) = \\sqrt{\\frac{1}{n_\\text{samples}} \\sum_{i=0}^{n_\\text{samples} - 1} (y_i - \\hat{y}_i)^2}.$\n",
        "\n",
        "- Lỗi càng nhỏ càng thể hiện mô hình có khả năng học và dự đoán hiệu quả\n",
        "- Như thế nào là nhỏ ?"
      ]
    },
    {
      "cell_type": "code",
      "execution_count": null,
      "metadata": {
        "id": "PCXTehB7mnFX"
      },
      "outputs": [],
      "source": [
        "# Giá trị RMSE của mô hình Linear Regression\n",
        "math.sqrt(mean_squared_error(diabetes_y_test, diabetes_y_pred))"
      ]
    },
    {
      "cell_type": "code",
      "execution_count": null,
      "metadata": {
        "id": "JETkYN9omnFX"
      },
      "outputs": [],
      "source": [
        "##### exercise #####\n",
        "# Yêu cầu: đánh giá độ đo RMSE của mô hình Ridge Regression với các hằng số phạt khác nhau, in ra kết quả.\n",
        "# Gợi ý: Các bước làm:\n",
        "# - Lặp theo danh sách các hằng số phạt\n",
        "# - Dựng các mô hình Ridge Regression với mỗi hằng số phạt tương ứng\n",
        "# - Huấn luyện các mô hình và dự đoán\n",
        "# - Tính RMSE tương ứng\n",
        "######################\n",
        "\n",
        "#Các giá trị hằng số phạt cho trước\n",
        "_lambda = [0, 0.0001,0.01, 0.04, 0.05, 0.06, 0.1, 0.5, 1, 5, 10, 20]"
      ]
    },
    {
      "cell_type": "code",
      "execution_count": null,
      "metadata": {
        "id": "5AGnOLd_mnFY"
      },
      "outputs": [],
      "source": [
        "!pip install seaborn"
      ]
    },
    {
      "cell_type": "markdown",
      "metadata": {
        "id": "LKKmzm95mnFY"
      },
      "source": [
        "### Vẽ biểu đồ phân phối cho chỉ số thực tế"
      ]
    },
    {
      "cell_type": "code",
      "execution_count": null,
      "metadata": {
        "id": "3U-3VEeAmnFZ"
      },
      "outputs": [],
      "source": [
        "import seaborn as sns\n",
        "sns.distplot(diabetes_y_test)\n",
        "pd.DataFrame(data=diabetes_y_test, columns=[\"values\"]).describe()"
      ]
    },
    {
      "cell_type": "markdown",
      "metadata": {
        "jupyter": {
          "outputs_hidden": true
        },
        "id": "ayxsUFFSmnFZ"
      },
      "source": [
        "### Vẽ biểu đồ phân phối cho chỉ số dự đoán của mô hình linear regression"
      ]
    },
    {
      "cell_type": "code",
      "execution_count": null,
      "metadata": {
        "tags": [],
        "id": "DET-Jf6_mnFZ"
      },
      "outputs": [],
      "source": [
        "##### exercise #####\n",
        "# Yêu cầu: Tính các chỉ số thống kê và vẽ biểu đồ phân phối của chỉ số dự đoán bằng mô hình Linear Regression, quan sát và nhận xét\n",
        "# Gợi ý: sử dụng sns và pd\n",
        "######################"
      ]
    },
    {
      "cell_type": "markdown",
      "metadata": {
        "id": "151w5OTOmnFa"
      },
      "source": [
        "### Vẽ biểu đồ so sánh kết quả dự đoán và thực tế"
      ]
    },
    {
      "cell_type": "code",
      "execution_count": null,
      "metadata": {
        "id": "JhLtFhigmnFa"
      },
      "outputs": [],
      "source": [
        "import matplotlib.pyplot as plt\n",
        "\n",
        "plt.figure(figsize=(12,8))\n",
        "\n",
        "plt.plot(diabetes_y_test)\n",
        "plt.plot(diabetes_y_pred)\n",
        "\n",
        "plt.xlabel('Patients')\n",
        "\n",
        "plt.ylabel('Index')\n",
        "\n",
        "\n",
        "# function to show the plot\n",
        "plt.show()"
      ]
    }
  ],
  "metadata": {
    "kernelspec": {
      "display_name": "Python 3",
      "language": "python",
      "name": "python3"
    },
    "language_info": {
      "codemirror_mode": {
        "name": "ipython",
        "version": 3
      },
      "file_extension": ".py",
      "mimetype": "text/x-python",
      "name": "python",
      "nbconvert_exporter": "python",
      "pygments_lexer": "ipython3",
      "version": "3.8.8"
    },
    "colab": {
      "provenance": [],
      "toc_visible": true
    }
  },
  "nbformat": 4,
  "nbformat_minor": 0
}