{
  "cells": [
    {
      "cell_type": "code",
      "source": [
        "from google.colab import drive\n",
        "drive.mount('/content/drive')"
      ],
      "metadata": {
        "colab": {
          "base_uri": "https://localhost:8080/"
        },
        "id": "mnrO60Q1hg0C",
        "outputId": "fd11e985-10a9-4c0e-9a91-13d6425e3256"
      },
      "execution_count": null,
      "outputs": [
        {
          "output_type": "stream",
          "name": "stdout",
          "text": [
            "Mounted at /content/drive\n"
          ]
        }
      ]
    },
    {
      "cell_type": "markdown",
      "metadata": {
        "id": "6LxK1VfF1L9B"
      },
      "source": [
        "====== Nguồn http://users.soict.hust.edu.vn/khoattq/ml-dm-course/ ======\n",
        "\n",
        "\n",
        "\n",
        "# Bài toán\n",
        "- Cần đánh giá hiệu quả của một mô hình phân loại?\n",
        "- So sánh hiệu quả của 2 mô hình khác nhau?\n",
        "\n",
        "Nhưng ta chỉ có một tập dữ liệu đã thu thập được. Để trả lời hai câu hỏi trên thì cần thực hiện bước \"Lựa chọn tham số\" của mô hình đã chọn.\n",
        "\n",
        "Bài này sẽ hướng dẫn cách thực hiện từng bước chi tiết, từ <b>lựa chọn tham số</b> (sử dụng Cross validation), cho đến <b>đánh giá</b> (sử dụng Holdout) và <b>so sánh</b> hai mô hình khác nhau. Tập dữ liệu sử dụng là tập văn bản đã thu thập được ở Bài học số 2 (tập tin tức từ Vnexpress)."
      ]
    },
    {
      "cell_type": "markdown",
      "metadata": {
        "id": "SDLycrKL1L9E"
      },
      "source": [
        "## Mục lục\n",
        "- Load dữ liệu từ thư mục\n",
        "- Tiền xử lý dữ liệu\n",
        "- Lựa chọn tham số các mô hình\n",
        "- So sánh SVM và Random Forest"
      ]
    },
    {
      "cell_type": "code",
      "source": [
        "cd /content/drive/MyDrive/ML_course/SVM_practice/data"
      ],
      "metadata": {
        "colab": {
          "base_uri": "https://localhost:8080/"
        },
        "id": "J8X2LKiii60h",
        "outputId": "14741c0d-d4a3-4979-ecad-6005e28ae39e"
      },
      "execution_count": null,
      "outputs": [
        {
          "output_type": "stream",
          "name": "stdout",
          "text": [
            "/content/drive/MyDrive/ML_course/SVM_practice/data\n"
          ]
        }
      ]
    },
    {
      "cell_type": "code",
      "source": [
        "!pip install pyvi"
      ],
      "metadata": {
        "id": "UeqivL7Di_7F"
      },
      "execution_count": null,
      "outputs": []
    },
    {
      "cell_type": "code",
      "execution_count": null,
      "metadata": {
        "id": "OHBKV71G1L9G"
      },
      "outputs": [],
      "source": [
        "import os\n",
        "import matplotlib.pyplot as plt\n",
        "import numpy as np\n",
        "from sklearn.model_selection import learning_curve\n",
        "from tqdm import tqdm\n",
        "\n",
        "from sklearn.datasets import load_files\n",
        "from pyvi import ViTokenizer\n",
        "\n",
        "from sklearn import svm\n",
        "from sklearn.ensemble import RandomForestClassifier\n",
        "from sklearn.feature_extraction.text import CountVectorizer, TfidfVectorizer\n",
        "from sklearn.feature_extraction.text import TfidfTransformer\n",
        "from sklearn.model_selection import train_test_split, GridSearchCV\n",
        "from sklearn.pipeline import Pipeline\n",
        "from sklearn.metrics import accuracy_score, confusion_matrix, ConfusionMatrixDisplay\n",
        "\n",
        "%matplotlib inline"
      ]
    },
    {
      "cell_type": "markdown",
      "metadata": {
        "id": "uuWib0Qn1L9H"
      },
      "source": [
        "## Load dữ liệu từ thư mục\n",
        "\n",
        "Giả sử cấu trúc thư mục như sau\n",
        "\n",
        "- data/news_vnexpress/\n",
        "\n",
        "    - Kinh tế:\n",
        "        - bài báo 1.txt\n",
        "        - bài báo 2.txt\n",
        "    - Pháp luật\n",
        "        - bài báo 3.txt\n",
        "        - bài báo 4.txt"
      ]
    },
    {
      "cell_type": "code",
      "execution_count": null,
      "metadata": {
        "id": "sYId-8Ke1L9J"
      },
      "outputs": [],
      "source": [
        "INPUT = '/content/drive/MyDrive/ML_course/SVM_practice/data/news_1135/'\n",
        "os.makedirs(\"images\",exist_ok=True)  # thư mục lưu các hình ảnh kết quả trong quá trình huấn luyện và đánh giá"
      ]
    },
    {
      "cell_type": "code",
      "execution_count": null,
      "metadata": {
        "id": "om8pFsLu1L9K",
        "colab": {
          "base_uri": "https://localhost:8080/"
        },
        "outputId": "9a5901fb-b357-429e-85ec-0725a1d1c3a7"
      },
      "outputs": [
        {
          "output_type": "stream",
          "name": "stdout",
          "text": [
            "Các nhãn và số văn bản tương ứng trong dữ liệu\n",
            "----------------------------------------------\n",
            "Độc giả: 52\n",
            "Đời sống - Xã hội: 91\n",
            "Tin khác: 100\n",
            "Sức khỏe: 75\n",
            "Thể thao: 140\n",
            "Thời sự: 138\n",
            "Pháp luật: 50\n",
            "Kinh tế: 186\n",
            "Giải trí: 107\n",
            "Khoa học - Công nghệ: 196\n",
            "-------------------------\n",
            "Tổng số văn bản: 1135\n"
          ]
        }
      ],
      "source": [
        "# statistics\n",
        "print('Các nhãn và số văn bản tương ứng trong dữ liệu')\n",
        "print('----------------------------------------------')\n",
        "n = 0\n",
        "for label in os.listdir(INPUT):\n",
        "    if 'stop' in label:\n",
        "      continue\n",
        "    print(f'{label}: {len(os.listdir(os.path.join(INPUT, label)))}')\n",
        "    n += len(os.listdir(os.path.join(INPUT, label)))\n",
        "\n",
        "print('-------------------------')\n",
        "print(f\"Tổng số văn bản: {n}\")"
      ]
    },
    {
      "cell_type": "code",
      "execution_count": null,
      "metadata": {
        "id": "u4t0iHhA1L9L",
        "outputId": "a131c680-14ba-4762-9f23-407836530e7c",
        "colab": {
          "base_uri": "https://localhost:8080/"
        }
      },
      "outputs": [
        {
          "output_type": "stream",
          "name": "stdout",
          "text": [
            "mapping:\n",
            "Giải trí - 0\n",
            "Khoa học - Công nghệ - 1\n",
            "Kinh tế - 2\n",
            "Pháp luật - 3\n",
            "Sức khỏe - 4\n",
            "Thể thao - 5\n",
            "Thời sự - 6\n",
            "Tin khác - 7\n",
            "Đời sống - Xã hội - 8\n",
            "Độc giả - 9\n",
            "--------------------------\n",
            "['/content/drive/MyDrive/ML_course/SVM_practice/data/news_1135/Tin khác/0218e1df21ce358b9c6485176a48f1fcaeedef67.txt']\n",
            "[7]\n",
            "['Dân_trí Sở GD & ĐT tỉnh Gia_Lai vừa ra văn_bản số 2258 / SGDĐT - VP , về việc chấn_chỉnh việc tiếp_thị sách và các vật_dụng khác trong các cơ_sở giáo_dục . Văn_bản chỉ_đạo , tuyệt_đối không cho phép các cá_nhân , tập_thể đến trường tiếp_thị , quảng_cáo mua_bán sách , dụng_cụ học_tập … cho giáo_viên và học_sinh trong nhà_trường . Các tổ_chức , cá_nhân trong ngành giáo_dục tuyệt_đối không được thực_hiện hoặc tham_gia giới_thiệu , quảng_bá , vận_động mua , phát_hành sách tham_khảo tới học_sinh hoặc phụ_huynh dưới hình_thức nào . Nhà_trường tuyệt_đối không được lưu_hành , sử_dụng sách có nội_dung không lành_mạnh , không phù_hợp với nội_dung chương_trình phổ_thông . Trường_hợp phát_hiện sách có sai_sót , các đơn_vị cần báo_cáo với cấp trên để có hướng xử_lý . Các sơ sở giáo_dục đề_cao cảnh_giác đối_với trường_hợp mạo_danh cán_bộ , chuyên_viên sở trong ngành đi giới_thiệu sách , đồ_dùng học_sinh ; công_khai phổ_biến các quy_định trên đến cán_bộ , giáo_viên , học_sinh để cùng phòng tránh và ngăn_chặn … Trước đó , báo Dân_trí đã thông_tin về việc học_sinh của Trường Tiểu_học số 2 xã Hòa Phú ( Chư_Păh , Gia_Lai ) đã mang 1 tờ giấy thông_báo về việc mua sách tham_khảo mang về cho phụ_huynh và xin tiền để mua sách , khiến nhiều phụ_huynh bức_xúc . Sự_việc được bà Dương Thị Nga - Hiệu_trưởng nhà_trường cho biết , do hôm xảy ra sự_việc , bà đi_vắng nên không hay_biết . Tuệ Mẫn']\n",
            "\n",
            "Tổng số  văn bản: 1135\n"
          ]
        }
      ],
      "source": [
        "# load data\n",
        "data_train = load_files(container_path=INPUT, encoding=\"utf-8\")\n",
        "\n",
        "print('mapping:')\n",
        "for i in range(len(data_train.target_names)):\n",
        "    print(f'{data_train.target_names[i]} - {i}')\n",
        "\n",
        "print('--------------------------')\n",
        "print(data_train.filenames[0:1])\n",
        "# print(data_train.data[0:1])\n",
        "print(data_train.target[0:1])\n",
        "print(data_train.data[0:1])\n",
        "\n",
        "print(\"\\nTổng số  văn bản: {}\" .format( len(data_train.filenames)))"
      ]
    },
    {
      "cell_type": "markdown",
      "metadata": {
        "id": "I7M6Hp6A1L9N"
      },
      "source": [
        "##  Tiền xử lý dữ liệu:  \n",
        "### Chuyển dữ liệu dạng text về dạng số\n",
        "Chuyển dữ liệu dạng text về ma trận (n x m) bằng TF. Chuyển nhãn các văn bản về dạng số"
      ]
    },
    {
      "cell_type": "code",
      "execution_count": null,
      "metadata": {
        "id": "CWLm00Bk1L9N"
      },
      "outputs": [],
      "source": [
        "# load dữ liệu các stopwords\n",
        "with open(\"vietnamese-stopwords.txt\", encoding=\"utf-8\") as f:\n",
        "    stopwords = f.readlines()\n",
        "stopwords = [x.strip().replace(\" \", \"_\") for x in stopwords]\n",
        "print(f\"Số lượng stopwords: {len(stopwords)}\")\n",
        "print(stopwords[:10])\n",
        "\n",
        "# Chuyển hoá dữ liệu text về dạng vector TF\n",
        "#     - loại bỏ từ dừng\n",
        "#     - sinh từ điển\n",
        "module_count_vector = CountVectorizer(stop_words=stopwords)\n",
        "model_rf_preprocess = Pipeline([('vect', module_count_vector),\n",
        "                    ('tf', TfidfTransformer()),\n",
        "                    ])\n",
        "# Hàm thực hiện chuyển đổi dữ liệu text thành dữ liệu số dạng ma trận\n",
        "# Input: Dữ liệu 2 chiều dạng numpy.array, mảng nhãn id dạng numpy.array\n",
        "data_preprocessed = model_rf_preprocess.fit_transform(data_train.data, data_train.target)\n",
        "\n",
        "print(f\"\\nSố lượng từ trong từ điển: {len(module_count_vector.vocabulary_)}\")\n",
        "print(f\"Kích thước dữ liệu sau khi xử lý: {data_preprocessed.shape}\")\n",
        "print(f\"Kích thước nhãn tương ứng: {data_train.target.shape}\")"
      ]
    },
    {
      "cell_type": "markdown",
      "metadata": {
        "id": "6HnaUsk91L9P"
      },
      "source": [
        "### Chia dữ liệu thành tập train và test\n",
        "(Nghĩa là ta sẽ dùng Holdout để đánh giá hiệu quả của một mô hình)"
      ]
    },
    {
      "cell_type": "code",
      "execution_count": null,
      "metadata": {
        "id": "8nB19SGw1L9Q"
      },
      "outputs": [],
      "source": [
        "p = 0.2\n",
        "pivot = int(data_preprocessed.shape[0] * (1-0.2))\n",
        "X_train, X_test = data_preprocessed[0:pivot], data_preprocessed[pivot:]\n",
        "Y_train, Y_test = data_train.target[0:pivot], data_train.target[pivot:]"
      ]
    },
    {
      "cell_type": "markdown",
      "metadata": {
        "id": "r1Cas8zq1L9R"
      },
      "source": [
        "# Lựa chọn (tối ưu) tham số\n",
        "\n",
        "Chỉ dùng tập train để thực hiện lựa chọn tham số.\n",
        "- SVM: kernel, C\n",
        "- Random Forest: criteria, N\n",
        "\n",
        "Ta sẽ dùng chiến lược Cross Validation trong bước này."
      ]
    },
    {
      "cell_type": "code",
      "execution_count": null,
      "metadata": {
        "id": "i1biugBL1L9R"
      },
      "outputs": [],
      "source": [
        "def cross_validation(estimator):\n",
        "    _, train_scores, test_scores = learning_curve(estimator, X_train, Y_train, cv=5, n_jobs=-1, train_sizes=[1.0, ], scoring=\"accuracy\")\n",
        "    test_scores = test_scores[0]\n",
        "    mean, std = test_scores.mean(), test_scores.std()\n",
        "    return mean, std\n",
        "\n",
        "def plot(title, xlabel, X, Y, error, ylabel = \"Accuracy\"):\n",
        "    plt.xlabel(xlabel)\n",
        "    plt.title(title)\n",
        "    plt.grid()\n",
        "    plt.ylabel(ylabel)\n",
        "\n",
        "    plt.errorbar(X, Y, error, linestyle='None', marker='o')"
      ]
    },
    {
      "cell_type": "markdown",
      "metadata": {
        "id": "02n3EaS01L9S"
      },
      "source": [
        "## Đánh giá hiệu quả của các kernel trong SVM"
      ]
    },
    {
      "cell_type": "code",
      "execution_count": null,
      "metadata": {
        "id": "7F-_dWXa1L9S"
      },
      "outputs": [],
      "source": [
        "title = \"thay đổi kernel, C = 1\"\n",
        "xlabel = \"kernel\"\n",
        "X = []\n",
        "Y = []\n",
        "error = []\n",
        "\n",
        "for kernel in tqdm(['linear', 'poly', 'rbf', 'sigmoid']):\n",
        "    # Với mỗi kernel được chọn,\n",
        "    # thực hiện xây dựng mô hình, huấn luyện và đánh giá theo cross-validation\n",
        "    text_clf = svm.SVC(kernel=kernel, C=1.0)\n",
        "    mean, std = cross_validation(text_clf)\n",
        "    X.append(kernel)\n",
        "    Y.append(mean)\n",
        "    error.append(std)\n",
        "\n",
        "# lưu kết quả ra file ảnh\n",
        "plot(title, xlabel, X, Y, error)\n",
        "plt.savefig('images/svm_change_kernel.png', bbox_inches='tight')\n",
        "plt.show()\n"
      ]
    },
    {
      "cell_type": "markdown",
      "metadata": {
        "id": "EbG5uAyp1L9T"
      },
      "source": [
        "## Đánh giá ảnh hưởng của tham số C trong SVM"
      ]
    },
    {
      "cell_type": "code",
      "execution_count": null,
      "metadata": {
        "id": "fbT0W3xj1L9T"
      },
      "outputs": [],
      "source": [
        "title = \"thay đổi C, kernel = linear\"\n",
        "xlabel = \"C\"\n",
        "X = []\n",
        "Y = []\n",
        "error = []\n",
        "\n",
        "for C in tqdm([.1, 1.0, 2.0, 5.0, 10.0]):\n",
        "    # Với từng giá trị C nhận được,\n",
        "    # thực hiện xây dựng mô hình, huấn luyện và đánh giá theo cross-validation\n",
        "    text_clf = svm.SVC(kernel='linear', C=C)\n",
        "    mean, std = cross_validation(text_clf)\n",
        "    X.append(str(C))\n",
        "    Y.append(mean)\n",
        "    error.append(std)\n",
        "\n",
        "# lưu kết quả ra file ảnh\n",
        "plot(title, xlabel, X, Y, error)\n",
        "plt.savefig('images/svm_change_C.png', bbox_inches='tight')\n",
        "plt.show()\n"
      ]
    },
    {
      "cell_type": "markdown",
      "metadata": {
        "id": "o8wMjnfY1L9V"
      },
      "source": [
        "## Đánh giá ảnh hưởng của độ đo trong Random Forest"
      ]
    },
    {
      "cell_type": "code",
      "execution_count": null,
      "metadata": {
        "id": "MhAJWZuo1L9V"
      },
      "outputs": [],
      "source": [
        "title = \"thay đổi criterion, n_estimators = 50\"\n",
        "xlabel = \"criterion\"\n",
        "X = []\n",
        "Y = []\n",
        "error = []\n",
        "\n",
        "for criterion in tqdm([\"gini\", \"entropy\"]):\n",
        "    # Với mỗi criterion nhận được,\n",
        "    # thực hiện xây dựng mô hình, huấn luyện và đánh giá theo cross-validation\n",
        "    text_clf = RandomForestClassifier(criterion=criterion, n_estimators=50)\n",
        "    mean, std = cross_validation(text_clf)\n",
        "    X.append(str(criterion))\n",
        "    Y.append(mean)\n",
        "    error.append(std)\n",
        "\n",
        "# lưu kết quả ra file ảnh\n",
        "plot(title, xlabel, X, Y, error)\n",
        "plt.savefig('images/RF_change_criterion.png', bbox_inches='tight')\n",
        "plt.show()\n"
      ]
    },
    {
      "cell_type": "markdown",
      "metadata": {
        "id": "blar6dTK1L9W"
      },
      "source": [
        "## Đánh giá ảnh hưởng của số cây trong Random Forest"
      ]
    },
    {
      "cell_type": "code",
      "execution_count": null,
      "metadata": {
        "id": "FfNfL9Dt1L9W"
      },
      "outputs": [],
      "source": [
        "title = \"thay đổi n_estimators, criterion = gini\"\n",
        "xlabel = \"n_estimators\"\n",
        "X = []\n",
        "Y = []\n",
        "error = []\n",
        "\n",
        "for n_estimators in tqdm([10, 50, 100, 300]):\n",
        "    # Với từng giá trị n_estimators nhận được,\n",
        "    # thực hiện xây dựng mô hình, huấn luyện và đánh giá theo cross-validation\n",
        "    text_clf = RandomForestClassifier(criterion='gini', n_estimators=n_estimators)\n",
        "    mean, std = cross_validation(text_clf)\n",
        "    X.append(str(n_estimators))\n",
        "    Y.append(mean)\n",
        "    error.append(std)\n",
        "\n",
        "# lưu kết quả ra file ảnh\n",
        "plot(title, xlabel, X, Y, error)\n",
        "plt.savefig('images/RF_change_N.png', bbox_inches='tight')\n",
        "plt.show()\n"
      ]
    },
    {
      "cell_type": "markdown",
      "metadata": {
        "id": "o1T6yCCx1L9X"
      },
      "source": [
        "## Đánh giá ảnh tham số K trong mô hình KNN"
      ]
    },
    {
      "cell_type": "code",
      "execution_count": null,
      "metadata": {
        "id": "QF6OBOnJ1L9Y"
      },
      "outputs": [],
      "source": [
        "from sklearn.neighbors import KNeighborsClassifier\n",
        "\n",
        "title = \"thay đổi K\"\n",
        "xlabel = \"K\"\n",
        "X = []\n",
        "Y = []\n",
        "error = []\n",
        "\n",
        "for k in tqdm([1, 3, 5, 20, 50]):\n",
        "    # Với từng giá trị k nhận được,\n",
        "    # thực hiện xây dựng mô hình, huấn luyện và đánh giá theo cross-validation\n",
        "    text_clf = KNeighborsClassifier(n_neighbors=k)\n",
        "    mean, std = cross_validation(text_clf)\n",
        "    X.append(str(k))\n",
        "    Y.append(mean)\n",
        "    error.append(std)\n",
        "\n",
        "# lưu kết quả ra file ảnh\n",
        "plot(title, xlabel, X, Y, error)\n",
        "plt.savefig('images/KNN_change_K.png', bbox_inches='tight')\n",
        "plt.show()\n"
      ]
    },
    {
      "cell_type": "markdown",
      "metadata": {
        "id": "RcPwmSAY1L9Y"
      },
      "source": [
        "# So sánh các mô hình\n",
        "- Sau khi chọn được các bộ tham số tốt nhất cho mỗi mô hình, ta huấn luyện lại trên toàn bộ tập Train.\n",
        "- Dùng các mô hình mới huấn luyện để phán đoán cho các dữ liệu trong tập Test\n",
        "- Đo đạc Độ chính xác (Accuracy) của chúng và so sánh kết quả."
      ]
    },
    {
      "cell_type": "code",
      "execution_count": null,
      "metadata": {
        "id": "sHHpiFTl1L9Z",
        "outputId": "2dd4e41a-4693-4bf1-e31b-4abdb642ceef",
        "colab": {
          "base_uri": "https://localhost:8080/",
          "height": 74
        }
      },
      "outputs": [
        {
          "output_type": "execute_result",
          "data": {
            "text/plain": [
              "KNeighborsClassifier()"
            ],
            "text/html": [
              "<style>#sk-container-id-1 {color: black;background-color: white;}#sk-container-id-1 pre{padding: 0;}#sk-container-id-1 div.sk-toggleable {background-color: white;}#sk-container-id-1 label.sk-toggleable__label {cursor: pointer;display: block;width: 100%;margin-bottom: 0;padding: 0.3em;box-sizing: border-box;text-align: center;}#sk-container-id-1 label.sk-toggleable__label-arrow:before {content: \"▸\";float: left;margin-right: 0.25em;color: #696969;}#sk-container-id-1 label.sk-toggleable__label-arrow:hover:before {color: black;}#sk-container-id-1 div.sk-estimator:hover label.sk-toggleable__label-arrow:before {color: black;}#sk-container-id-1 div.sk-toggleable__content {max-height: 0;max-width: 0;overflow: hidden;text-align: left;background-color: #f0f8ff;}#sk-container-id-1 div.sk-toggleable__content pre {margin: 0.2em;color: black;border-radius: 0.25em;background-color: #f0f8ff;}#sk-container-id-1 input.sk-toggleable__control:checked~div.sk-toggleable__content {max-height: 200px;max-width: 100%;overflow: auto;}#sk-container-id-1 input.sk-toggleable__control:checked~label.sk-toggleable__label-arrow:before {content: \"▾\";}#sk-container-id-1 div.sk-estimator input.sk-toggleable__control:checked~label.sk-toggleable__label {background-color: #d4ebff;}#sk-container-id-1 div.sk-label input.sk-toggleable__control:checked~label.sk-toggleable__label {background-color: #d4ebff;}#sk-container-id-1 input.sk-hidden--visually {border: 0;clip: rect(1px 1px 1px 1px);clip: rect(1px, 1px, 1px, 1px);height: 1px;margin: -1px;overflow: hidden;padding: 0;position: absolute;width: 1px;}#sk-container-id-1 div.sk-estimator {font-family: monospace;background-color: #f0f8ff;border: 1px dotted black;border-radius: 0.25em;box-sizing: border-box;margin-bottom: 0.5em;}#sk-container-id-1 div.sk-estimator:hover {background-color: #d4ebff;}#sk-container-id-1 div.sk-parallel-item::after {content: \"\";width: 100%;border-bottom: 1px solid gray;flex-grow: 1;}#sk-container-id-1 div.sk-label:hover label.sk-toggleable__label {background-color: #d4ebff;}#sk-container-id-1 div.sk-serial::before {content: \"\";position: absolute;border-left: 1px solid gray;box-sizing: border-box;top: 0;bottom: 0;left: 50%;z-index: 0;}#sk-container-id-1 div.sk-serial {display: flex;flex-direction: column;align-items: center;background-color: white;padding-right: 0.2em;padding-left: 0.2em;position: relative;}#sk-container-id-1 div.sk-item {position: relative;z-index: 1;}#sk-container-id-1 div.sk-parallel {display: flex;align-items: stretch;justify-content: center;background-color: white;position: relative;}#sk-container-id-1 div.sk-item::before, #sk-container-id-1 div.sk-parallel-item::before {content: \"\";position: absolute;border-left: 1px solid gray;box-sizing: border-box;top: 0;bottom: 0;left: 50%;z-index: -1;}#sk-container-id-1 div.sk-parallel-item {display: flex;flex-direction: column;z-index: 1;position: relative;background-color: white;}#sk-container-id-1 div.sk-parallel-item:first-child::after {align-self: flex-end;width: 50%;}#sk-container-id-1 div.sk-parallel-item:last-child::after {align-self: flex-start;width: 50%;}#sk-container-id-1 div.sk-parallel-item:only-child::after {width: 0;}#sk-container-id-1 div.sk-dashed-wrapped {border: 1px dashed gray;margin: 0 0.4em 0.5em 0.4em;box-sizing: border-box;padding-bottom: 0.4em;background-color: white;}#sk-container-id-1 div.sk-label label {font-family: monospace;font-weight: bold;display: inline-block;line-height: 1.2em;}#sk-container-id-1 div.sk-label-container {text-align: center;}#sk-container-id-1 div.sk-container {/* jupyter's `normalize.less` sets `[hidden] { display: none; }` but bootstrap.min.css set `[hidden] { display: none !important; }` so we also need the `!important` here to be able to override the default hidden behavior on the sphinx rendered scikit-learn.org. See: https://github.com/scikit-learn/scikit-learn/issues/21755 */display: inline-block !important;position: relative;}#sk-container-id-1 div.sk-text-repr-fallback {display: none;}</style><div id=\"sk-container-id-1\" class=\"sk-top-container\"><div class=\"sk-text-repr-fallback\"><pre>KNeighborsClassifier()</pre><b>In a Jupyter environment, please rerun this cell to show the HTML representation or trust the notebook. <br />On GitHub, the HTML representation is unable to render, please try loading this page with nbviewer.org.</b></div><div class=\"sk-container\" hidden><div class=\"sk-item\"><div class=\"sk-estimator sk-toggleable\"><input class=\"sk-toggleable__control sk-hidden--visually\" id=\"sk-estimator-id-1\" type=\"checkbox\" checked><label for=\"sk-estimator-id-1\" class=\"sk-toggleable__label sk-toggleable__label-arrow\">KNeighborsClassifier</label><div class=\"sk-toggleable__content\"><pre>KNeighborsClassifier()</pre></div></div></div></div></div>"
            ]
          },
          "metadata": {},
          "execution_count": 16
        }
      ],
      "source": [
        "svm_ = svm.SVC(kernel='linear', C=1.0)\n",
        "rf = RandomForestClassifier(criterion='gini', n_estimators=300)\n",
        "knn = KNeighborsClassifier(n_neighbors=5)\n",
        "\n",
        "# Huấn luyện các mô hình trên tập dữ liệu train đầy đủ\n",
        "svm_.fit(X_train, Y_train)\n",
        "rf.fit(X_train, Y_train)\n",
        "knn.fit(X_train, Y_train)\n"
      ]
    },
    {
      "cell_type": "code",
      "execution_count": null,
      "metadata": {
        "id": "0XbxkO4A1L9Z",
        "outputId": "d7e4106c-02ed-4df4-f856-5e2f327977bc",
        "colab": {
          "base_uri": "https://localhost:8080/"
        }
      },
      "outputs": [
        {
          "output_type": "stream",
          "name": "stdout",
          "text": [
            "SVM: 0.8590308370044053\n",
            "RF: 0.801762114537445\n",
            "KNN: 0.8414096916299559\n"
          ]
        }
      ],
      "source": [
        "# Kết quả dự đoán trên tập test\n",
        "print(f'SVM: {accuracy_score(Y_test, svm_.predict(X_test))}')\n",
        "print(f'RF: {accuracy_score(Y_test, rf.predict(X_test))}')\n",
        "print(f'KNN: {accuracy_score(Y_test, knn.predict(X_test))}')"
      ]
    },
    {
      "cell_type": "code",
      "source": [
        "Y_pred_svm = svm_.predict(X_test)\n",
        "cm_svm = confusion_matrix(Y_test, Y_pred_svm, labels=svm_.classes_)\n",
        "disp_svm = ConfusionMatrixDisplay(confusion_matrix=cm_svm, display_labels=svm_.classes_)\n",
        "disp_svm.plot()\n",
        "plt.show()"
      ],
      "metadata": {
        "id": "dRdpABHxG80Q"
      },
      "execution_count": null,
      "outputs": []
    },
    {
      "cell_type": "code",
      "source": [
        "Y_pred_rf = rf.predict(X_test)\n",
        "cm_rf = confusion_matrix(Y_test, Y_pred_rf, labels=rf.classes_)\n",
        "disp_rf = ConfusionMatrixDisplay(confusion_matrix=cm_rf, display_labels=rf.classes_)\n",
        "disp_rf.plot()\n",
        "plt.show()"
      ],
      "metadata": {
        "id": "_euVzcb-H5FK"
      },
      "execution_count": null,
      "outputs": []
    },
    {
      "cell_type": "code",
      "source": [
        "Y_pred_knn = knn.predict(X_test)\n",
        "cm_knn = confusion_matrix(Y_test, Y_pred_knn, labels=knn.classes_)\n",
        "disp_knn = ConfusionMatrixDisplay(confusion_matrix=cm_knn, display_labels=knn.classes_)\n",
        "disp_knn.plot()\n",
        "plt.show()"
      ],
      "metadata": {
        "id": "xxtMzIXlILs8"
      },
      "execution_count": null,
      "outputs": []
    },
    {
      "cell_type": "markdown",
      "metadata": {
        "id": "3SIrFsJU1L9b"
      },
      "source": [
        "# Bài tập\n",
        "- Sử dụng dữ liệu đánh giá tín dụng cá nhân\n",
        "- Sử dụng độ đo đánh giá negative cost\n",
        "- Lựa chọn tham số cho các mô hình SVM, Random Forest và KNN\n",
        "- So sánh các mô hình với siêu tham số tốt nhất"
      ]
    },
    {
      "cell_type": "code",
      "execution_count": null,
      "metadata": {
        "id": "uL9k62wa1L9b",
        "outputId": "2f228eac-b04e-4efb-9b2b-bab3043288a7",
        "colab": {
          "base_uri": "https://localhost:8080/"
        }
      },
      "outputs": [
        {
          "output_type": "stream",
          "name": "stdout",
          "text": [
            "(1000, 24)\n",
            "(1000,)\n"
          ]
        }
      ],
      "source": [
        "data = np.genfromtxt('german.data-numeric')\n",
        "X_data = data[:,:24]\n",
        "Y_data = data[:,-1]\n",
        "print(X_data.shape)\n",
        "print(Y_data.shape)"
      ]
    },
    {
      "cell_type": "code",
      "execution_count": null,
      "metadata": {
        "id": "yIHnw-x81L9c",
        "outputId": "27dd4900-7862-4dda-d6ae-892bc5ab2a4f",
        "colab": {
          "base_uri": "https://localhost:8080/"
        }
      },
      "outputs": [
        {
          "output_type": "stream",
          "name": "stdout",
          "text": [
            "Dữ liệu training =  (800, 24) (800,)\n",
            "Dữ liệu testing =  (200, 24) (200,)\n"
          ]
        }
      ],
      "source": [
        "from sklearn.model_selection import train_test_split\n",
        "X_train, X_test, Y_train, Y_test = train_test_split(X_data, Y_data, test_size=0.2, random_state=42)\n",
        "print(\"Dữ liệu training = \", X_train.shape, Y_train.shape)\n",
        "print(\"Dữ liệu testing = \", X_test.shape, Y_test.shape)"
      ]
    },
    {
      "cell_type": "code",
      "execution_count": null,
      "metadata": {
        "id": "X-4HDkdS1L9c"
      },
      "outputs": [],
      "source": [
        "# Hàm tính neg_cost, dùng để truyền vào scoring của learning_curve\n",
        "def neg_cost(estimator, X, y):\n",
        "    y_true = y\n",
        "    y_pred = estimator.predict(X)\n",
        "    true_pos = ((y_true==y_pred)&(y_true==1.0))*0.0\n",
        "    true_ne = ((y_true==y_pred)&(y_true==2.0))*0.0\n",
        "    false_ne = ((y_true!=y_pred)&(y_true==1.0))*1.0\n",
        "    false_pos = ((y_true!=y_pred)&(y_true==2.0))*5.0\n",
        "    return -sum(true_pos + true_ne + false_pos + false_ne)/len(y_true)"
      ]
    },
    {
      "cell_type": "code",
      "execution_count": null,
      "metadata": {
        "id": "8lU1TwuT1L9e"
      },
      "outputs": [],
      "source": [
        "def cross_validation(estimator):\n",
        "    _, train_scores, test_scores = learning_curve(estimator, X_train, Y_train, cv=10, n_jobs=-1, train_sizes=[0.8, ], scoring=neg_cost)\n",
        "    test_scores = test_scores[0]\n",
        "    mean, std = test_scores.mean(), test_scores.std()\n",
        "    return mean, std\n",
        "\n",
        "def plot(title, xlabel, X, Y, error, ylabel = \"neg cost\"):\n",
        "    plt.xlabel(xlabel)\n",
        "    plt.title(title)\n",
        "    plt.grid()\n",
        "    plt.ylabel(ylabel)\n",
        "\n",
        "    plt.errorbar(X, Y, error, linestyle='None', marker='o')"
      ]
    },
    {
      "cell_type": "markdown",
      "metadata": {
        "id": "l485_cUu1L9e"
      },
      "source": [
        "## SVM"
      ]
    },
    {
      "cell_type": "markdown",
      "metadata": {
        "id": "lhig6E191L9g"
      },
      "source": [
        "## Random Forest"
      ]
    },
    {
      "cell_type": "markdown",
      "metadata": {
        "id": "2ajNW1yi1L9h"
      },
      "source": [
        "## KNN"
      ]
    },
    {
      "cell_type": "markdown",
      "metadata": {
        "id": "oeKTLueY1L9h"
      },
      "source": [
        "## So sánh"
      ]
    },
    {
      "cell_type": "code",
      "execution_count": null,
      "metadata": {
        "id": "WJ3rdW241L9j",
        "colab": {
          "base_uri": "https://localhost:8080/",
          "height": 74
        },
        "outputId": "b3327fe4-0c62-47e3-b8eb-07e8b5bc2f50"
      },
      "outputs": [
        {
          "output_type": "execute_result",
          "data": {
            "text/plain": [
              "KNeighborsClassifier(n_neighbors=1)"
            ],
            "text/html": [
              "<style>#sk-container-id-2 {color: black;background-color: white;}#sk-container-id-2 pre{padding: 0;}#sk-container-id-2 div.sk-toggleable {background-color: white;}#sk-container-id-2 label.sk-toggleable__label {cursor: pointer;display: block;width: 100%;margin-bottom: 0;padding: 0.3em;box-sizing: border-box;text-align: center;}#sk-container-id-2 label.sk-toggleable__label-arrow:before {content: \"▸\";float: left;margin-right: 0.25em;color: #696969;}#sk-container-id-2 label.sk-toggleable__label-arrow:hover:before {color: black;}#sk-container-id-2 div.sk-estimator:hover label.sk-toggleable__label-arrow:before {color: black;}#sk-container-id-2 div.sk-toggleable__content {max-height: 0;max-width: 0;overflow: hidden;text-align: left;background-color: #f0f8ff;}#sk-container-id-2 div.sk-toggleable__content pre {margin: 0.2em;color: black;border-radius: 0.25em;background-color: #f0f8ff;}#sk-container-id-2 input.sk-toggleable__control:checked~div.sk-toggleable__content {max-height: 200px;max-width: 100%;overflow: auto;}#sk-container-id-2 input.sk-toggleable__control:checked~label.sk-toggleable__label-arrow:before {content: \"▾\";}#sk-container-id-2 div.sk-estimator input.sk-toggleable__control:checked~label.sk-toggleable__label {background-color: #d4ebff;}#sk-container-id-2 div.sk-label input.sk-toggleable__control:checked~label.sk-toggleable__label {background-color: #d4ebff;}#sk-container-id-2 input.sk-hidden--visually {border: 0;clip: rect(1px 1px 1px 1px);clip: rect(1px, 1px, 1px, 1px);height: 1px;margin: -1px;overflow: hidden;padding: 0;position: absolute;width: 1px;}#sk-container-id-2 div.sk-estimator {font-family: monospace;background-color: #f0f8ff;border: 1px dotted black;border-radius: 0.25em;box-sizing: border-box;margin-bottom: 0.5em;}#sk-container-id-2 div.sk-estimator:hover {background-color: #d4ebff;}#sk-container-id-2 div.sk-parallel-item::after {content: \"\";width: 100%;border-bottom: 1px solid gray;flex-grow: 1;}#sk-container-id-2 div.sk-label:hover label.sk-toggleable__label {background-color: #d4ebff;}#sk-container-id-2 div.sk-serial::before {content: \"\";position: absolute;border-left: 1px solid gray;box-sizing: border-box;top: 0;bottom: 0;left: 50%;z-index: 0;}#sk-container-id-2 div.sk-serial {display: flex;flex-direction: column;align-items: center;background-color: white;padding-right: 0.2em;padding-left: 0.2em;position: relative;}#sk-container-id-2 div.sk-item {position: relative;z-index: 1;}#sk-container-id-2 div.sk-parallel {display: flex;align-items: stretch;justify-content: center;background-color: white;position: relative;}#sk-container-id-2 div.sk-item::before, #sk-container-id-2 div.sk-parallel-item::before {content: \"\";position: absolute;border-left: 1px solid gray;box-sizing: border-box;top: 0;bottom: 0;left: 50%;z-index: -1;}#sk-container-id-2 div.sk-parallel-item {display: flex;flex-direction: column;z-index: 1;position: relative;background-color: white;}#sk-container-id-2 div.sk-parallel-item:first-child::after {align-self: flex-end;width: 50%;}#sk-container-id-2 div.sk-parallel-item:last-child::after {align-self: flex-start;width: 50%;}#sk-container-id-2 div.sk-parallel-item:only-child::after {width: 0;}#sk-container-id-2 div.sk-dashed-wrapped {border: 1px dashed gray;margin: 0 0.4em 0.5em 0.4em;box-sizing: border-box;padding-bottom: 0.4em;background-color: white;}#sk-container-id-2 div.sk-label label {font-family: monospace;font-weight: bold;display: inline-block;line-height: 1.2em;}#sk-container-id-2 div.sk-label-container {text-align: center;}#sk-container-id-2 div.sk-container {/* jupyter's `normalize.less` sets `[hidden] { display: none; }` but bootstrap.min.css set `[hidden] { display: none !important; }` so we also need the `!important` here to be able to override the default hidden behavior on the sphinx rendered scikit-learn.org. See: https://github.com/scikit-learn/scikit-learn/issues/21755 */display: inline-block !important;position: relative;}#sk-container-id-2 div.sk-text-repr-fallback {display: none;}</style><div id=\"sk-container-id-2\" class=\"sk-top-container\"><div class=\"sk-text-repr-fallback\"><pre>KNeighborsClassifier(n_neighbors=1)</pre><b>In a Jupyter environment, please rerun this cell to show the HTML representation or trust the notebook. <br />On GitHub, the HTML representation is unable to render, please try loading this page with nbviewer.org.</b></div><div class=\"sk-container\" hidden><div class=\"sk-item\"><div class=\"sk-estimator sk-toggleable\"><input class=\"sk-toggleable__control sk-hidden--visually\" id=\"sk-estimator-id-2\" type=\"checkbox\" checked><label for=\"sk-estimator-id-2\" class=\"sk-toggleable__label sk-toggleable__label-arrow\">KNeighborsClassifier</label><div class=\"sk-toggleable__content\"><pre>KNeighborsClassifier(n_neighbors=1)</pre></div></div></div></div></div>"
            ]
          },
          "metadata": {},
          "execution_count": 31
        }
      ],
      "source": [
        "svm_ = svm.SVC(kernel='poly', C=10)\n",
        "rf = RandomForestClassifier(criterion='entropy', n_estimators=50)\n",
        "knn = KNeighborsClassifier(n_neighbors=1)\n",
        "\n",
        "# Huấn luyện các mô hình trên tập dữ liệu train đầy đủ\n",
        "svm_.fit(X_train, Y_train)\n",
        "rf.fit(X_train, Y_train)\n",
        "knn.fit(X_train, Y_train)"
      ]
    },
    {
      "cell_type": "code",
      "execution_count": null,
      "metadata": {
        "id": "PKQrmmn41L9j",
        "colab": {
          "base_uri": "https://localhost:8080/"
        },
        "outputId": "a641790c-769f-4964-ea27-34d685c8f0fa"
      },
      "outputs": [
        {
          "output_type": "stream",
          "name": "stdout",
          "text": [
            "SVM: -1.105\n",
            "RF: -0.795\n",
            "KNN: -1.065\n"
          ]
        }
      ],
      "source": [
        "# Kết quả dự đoán trên tập test\n",
        "print(f'SVM: {neg_cost(svm_, X_test, Y_test)}')\n",
        "print(f'RF: {neg_cost(rf, X_test, Y_test)}')\n",
        "print(f'KNN: {neg_cost(knn, X_test, Y_test)}')"
      ]
    }
  ],
  "metadata": {
    "kernelspec": {
      "display_name": "Python 3",
      "name": "python3"
    },
    "language_info": {
      "codemirror_mode": {
        "name": "ipython",
        "version": 3
      },
      "file_extension": ".py",
      "mimetype": "text/x-python",
      "name": "python",
      "nbconvert_exporter": "python",
      "pygments_lexer": "ipython3",
      "version": "3.7.6"
    },
    "colab": {
      "provenance": [],
      "gpuType": "T4"
    },
    "accelerator": "GPU"
  },
  "nbformat": 4,
  "nbformat_minor": 0
}